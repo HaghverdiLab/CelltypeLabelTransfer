{
 "cells": [
  {
   "cell_type": "code",
   "execution_count": 1,
   "id": "df36efa4-0ffc-444e-90f5-6604a580dee3",
   "metadata": {},
   "outputs": [
    {
     "name": "stderr",
     "output_type": "stream",
     "text": [
      "\n",
      "Attaching package: ‘dplyr’\n",
      "\n",
      "\n",
      "The following objects are masked from ‘package:stats’:\n",
      "\n",
      "    filter, lag\n",
      "\n",
      "\n",
      "The following objects are masked from ‘package:base’:\n",
      "\n",
      "    intersect, setdiff, setequal, union\n",
      "\n",
      "\n"
     ]
    }
   ],
   "source": [
    "source(\"../Scripts/summarize_functions.r\")\n",
    "source(\"../Scripts/functions.R\")\n",
    "source(\"../Scripts/visulizations.r\")\n",
    "library(dplyr)\n",
    "library(purrr)\n",
    "library(ggplot2)\n",
    " library(\"RColorBrewer\")\n",
    "source(\"../Scripts/weighted_bootstrapping.r\")"
   ]
  },
  {
   "cell_type": "code",
   "execution_count": 2,
   "id": "ef11e0b8-2f56-4299-8547-41b6e9d0d6fc",
   "metadata": {
    "tags": []
   },
   "outputs": [],
   "source": [
    "celltypes = c(\"Cytotoxic T cell\", \"CD4+ T cell\", \"CD14+ monocyte\", \"B cell\", \"Megakaryocyte\",\n",
    "              \"Natural killer cell\", \"CD16+ monocyte\", \"Dendritic cell\",\n",
    "              \"Plasmacytoid dendritic cell\")\n",
    "\n",
    "methods <- c(\"Seurat\", \"SingleR\",\"CellID\", \"SingleCellNet\", \"ItClust\")  \n",
    "sizes <- c(3090, 2418, 1373, 1022, 703, 623, 273, 126, 38)\n",
    "names(sizes) <- celltypes\n",
    "\n",
    "\n",
    "query <- read.csv(\"../Data/Fulldata/PBMC_Query/meta.csv\")\n",
    "folder <- \"../Data/Predictions/\"\n",
    "name <- \"PBMC10x\""
   ]
  },
  {
   "cell_type": "code",
   "execution_count": 3,
   "id": "ecfa032e-4d20-4b6e-a984-3a4d6627a32e",
   "metadata": {},
   "outputs": [
    {
     "name": "stdout",
     "output_type": "stream",
     "text": [
      "[1] \"Start ItClust ...\"\n"
     ]
    }
   ],
   "source": [
    "itclust <- get_results_method(paste(sep=\"/\",folder,\"ItClust\" ), name, \"ItClust\")\n",
    "itclust <- adjust_names(itclust, \"ItClust\")\n",
    "itclust <- merge(itclust, query, by=c(\"id\"), all=T)\n",
    "itclust[is.na(itclust)] <- \"unassigned\"\n"
   ]
  },
  {
   "cell_type": "code",
   "execution_count": 4,
   "id": "a9415ba3-f20c-49ba-b62e-a3131b19eb74",
   "metadata": {
    "tags": []
   },
   "outputs": [
    {
     "name": "stdout",
     "output_type": "stream",
     "text": [
      "[1] \"Start Seurat ...\"\n",
      "[1] \"Start SingleCellNet ...\"\n",
      "[1] \"Start SingleR ...\"\n",
      "[1] \"Start CellID ...\"\n"
     ]
    },
    {
     "data": {
      "text/html": [
       "11233"
      ],
      "text/latex": [
       "11233"
      ],
      "text/markdown": [
       "11233"
      ],
      "text/plain": [
       "[1] 11233"
      ]
     },
     "metadata": {},
     "output_type": "display_data"
    }
   ],
   "source": [
    "seurat <- get_results_method(paste(sep=\"/\",folder,\"Seurat\"), name, \"Seurat\")\n",
    "scn <- get_results_method(paste(sep=\"/\",folder,\"SingleCellNet\" ), name, \"SingleCellNet\")\n",
    "singleR <- get_results_method(paste(sep=\"/\",folder,\"SingleR\" ), name, \"SingleR\")\n",
    "cellid <- get_results_method(paste(sep=\"/\",folder,\"CellID\" ), name, \"CellID\")\n",
    "data <- list(cellid, seurat, scn, singleR, itclust) %>% reduce(full_join, by = \"id\")#\n",
    "\n",
    "rownames(data) <- data$id\n",
    "nrow(data)"
   ]
  },
  {
   "cell_type": "code",
   "execution_count": 5,
   "id": "83fdeab0-87bf-46c0-ac6c-25ac5275e1cf",
   "metadata": {},
   "outputs": [
    {
     "data": {
      "text/html": [
       "11183"
      ],
      "text/latex": [
       "11183"
      ],
      "text/markdown": [
       "11183"
      ],
      "text/plain": [
       "[1] 11183"
      ]
     },
     "metadata": {},
     "output_type": "display_data"
    }
   ],
   "source": [
    "data <- data[!is.na(data$class),]\n",
    "nrow(data)"
   ]
  },
  {
   "cell_type": "code",
   "execution_count": 6,
   "id": "fb0433bc-b7cd-4193-8651-292b5dc22d0b",
   "metadata": {
    "tags": []
   },
   "outputs": [
    {
     "name": "stderr",
     "output_type": "stream",
     "text": [
      "Warning message:\n",
      "“\u001b[1m\u001b[22mExpected 5 pieces. Additional pieces discarded in 39285879 rows [1, 2, 3, 4, 5, 6, 7, 8, 9, 10, 11, 12, 13, 14, 15, 16, 17, 18, 19, 20, ...].”\n"
     ]
    }
   ],
   "source": [
    "long <- make_long(data, celltypes, methods, sizes,\n",
    "                  c(\"id\", \"class_\", \"nGene\", \"nUMI\", \"Cluster\",\"Experiment\", \"Method\", 'percent.mito'))  \n",
    "long$predicted[is.na(long$predicted)] <- \"unassigned\""
   ]
  },
  {
   "cell_type": "code",
   "execution_count": 7,
   "id": "7f057574-fa70-4b9a-900d-07efc7009f27",
   "metadata": {
    "tags": []
   },
   "outputs": [],
   "source": [
    "full <- do.call(rbind, lapply(unique(long$class),\n",
    "                                  function(type) do.call(rbind,lapply(unique(long$Approach),\n",
    "                                  function(method)  get_measures(long[long$Genes %in% c(1000,0),],\n",
    "                                                                 type,\n",
    "                                                                 \"PBMC10x\", method,\n",
    "                                                                 3090, 0)))))\n",
    "\n",
    "write.csv(full, \"../Results/Files/values_full.csv\")\n",
    "                                                                    "
   ]
  },
  {
   "cell_type": "code",
   "execution_count": null,
   "id": "abed3a4a-e4ad-4a31-a205-314454bb090c",
   "metadata": {},
   "outputs": [],
   "source": [
    "all <- long[long$Size %in% c(38,100,250, 500,1000,1500,2000,3000),]\n",
    "all <- do.call(rbind, lapply(unique(long$class),\n",
    "                                 function(type) do.call(rbind,lapply(unique(long$Approach),\n",
    "                                  function(method) do.call(rbind, lapply(unique(long$Size),\n",
    "                                  function(size) do.call(rbind, lapply(unique(long$Set),\n",
    "                                  function (set) get_measures(all, type, \"PBMC10x\",\n",
    "                                                             method, size,set)))))))))\n",
    "                                                                       \n",
    "print(head(all))                                                             \n",
    "write.csv(all, \"../Results/Files/values_all.csv\") "
   ]
  },
  {
   "cell_type": "code",
   "execution_count": null,
   "id": "561bfe80-4974-4610-bb1d-aac6e6e7890c",
   "metadata": {
    "tags": []
   },
   "outputs": [],
   "source": [
    "get_measures <- function(data, type, ref, method, size, set, genes){\n",
    " \n",
    "    data <- data[data$Reference == ref & data$Genes == genes & \n",
    "                 data$Approach == method & data$Size == size & data$Set == set,] #\n",
    "    print(paste(type, ref, method, size,set,genes,  nrow(data)))\n",
    "    tp <- length(data$predicted[data$predicted == type & data$class == type])\n",
    "    fp <- length(data$predicted[data$predicted == type & data$class != type])\n",
    "    fn <- length(data$predicted[data$predicted != type & data$class == type])\n",
    "    tn <- length(data$predicted[data$predicted != type & data$class != type])\n",
    "    precision <- tp / (tp + fp)\n",
    "    recall <- tp / (tp + fn)\n",
    "    f1 <- 2*(precision * recall) / (precision + recall)\n",
    "    accuracy <- (tp) / length(data$predicted[data$class == type])\n",
    "   \n",
    "    return(data.frame(\"class\"=type,\"reference\"=ref,\"method\"=method,\"size\"=size,\"set\"=set, \n",
    "                      \"genes\"= genes,\"precision\"=precision,\"recall\"=recall,\"f1\"=f1,\n",
    "                      \"accuracy\"=accuracy))\n",
    "}\n",
    "\n",
    "geneset <- do.call(rbind, lapply(c(1000,200,2000), \n",
    "                                  function(genes) do.call(rbind,lapply(unique(long$class),\n",
    "                                  function(type) do.call(rbind,lapply(unique(long$Approach[long$Approach != \"ItClust\"]),\n",
    "                                  function(method)  get_measures(long,\n",
    "                                                                 type,\n",
    "                                                                 \"PBMC10x\", method,\n",
    "                                                                 3090, 0, genes)))))))\n",
    "\n",
    "write.csv(geneset, \"../Results/Files/values_geneset.csv\")\n",
    "                                                                      \n",
    "                                                                      "
   ]
  },
  {
   "cell_type": "code",
   "execution_count": null,
   "id": "5eb7141d-a595-44cf-9441-f9ce52171f2b",
   "metadata": {
    "tags": []
   },
   "outputs": [],
   "source": [
    "full1 <- full[, c(\"class\", \"method\", \"precision\", \"recall\", \"f1\", \"accuracy\")]\n",
    "colnames(full1) <-  c(\"class\", \"method\", \"full_precision\", \"full_recall\", \"full_f1\",\n",
    "                     \"full_accuracy\")\n"
   ]
  },
  {
   "cell_type": "code",
   "execution_count": null,
   "id": "8ad907e5-a228-479f-811d-0c052d46d726",
   "metadata": {
    "tags": []
   },
   "outputs": [],
   "source": [
    "query <- read.csv(\"../Data/Fulldata/PBMC_Query//meta.csv\")\n"
   ]
  },
  {
   "cell_type": "code",
   "execution_count": null,
   "id": "1758d570-72a8-4e45-bc6f-8a6f2ac26098",
   "metadata": {
    "tags": []
   },
   "outputs": [],
   "source": [
    "mono <- get_summary(\"../Data/Predictions/\",\n",
    "                    \"../Data/Fulldata/PBMC10x_Reference/meta.csv\",\n",
    "                    \"../Results/Files/\", query, \"mono\", celltypes, methods, seq(1,20,1),\n",
    "                    full1,  pattern=\"PBMC10x\")\n"
   ]
  },
  {
   "cell_type": "code",
   "execution_count": null,
   "id": "30a0f017-583b-41e5-9d27-0a47194620fd",
   "metadata": {},
   "outputs": [],
   "source": [
    "unique(full1$reference)"
   ]
  },
  {
   "cell_type": "code",
   "execution_count": null,
   "id": "c1719d4f-8bdd-4812-ba4d-936075c7eafe",
   "metadata": {
    "tags": []
   },
   "outputs": [],
   "source": [
    "\n",
    "mosaic <- get_summary(\"../Data/Predictions/\",\n",
    "                    \"../Data/Fulldata/PBMCMosaic_Reference//meta.csv\",\n",
    "                    \"../Results/Files/\", query,\"mosaic\", celltypes, methods, seq(1,20,1),\n",
    "                      full1, pattern=\"PBMCMosaic\")"
   ]
  },
  {
   "cell_type": "code",
   "execution_count": null,
   "id": "0ccd4a31-8f67-45fd-8994-acb4698f873a",
   "metadata": {},
   "outputs": [],
   "source": [
    "mono1 <- mono[mono$reference == \"PBMC10x\",]\n",
    "mono1 <- mono1[, c(\"id\", \"method\", \"accuracy\")]\n",
    "mosaic1 <- mosaic[mosaic$reference == \"PBMCMosaic\",]\n",
    "mosaic1 <- mosaic1[, c(\"id\", \"method\", \"accuracy\")]\n",
    "nrow(mono1)\n",
    "nrow(mosaic1)"
   ]
  },
  {
   "cell_type": "code",
   "execution_count": null,
   "id": "1d51e855-5c46-4857-aad3-8c898d678d9c",
   "metadata": {},
   "outputs": [],
   "source": [
    "\n",
    "full <- data[, stringr::str_detect(colnames(data), \"3090\")]\n",
    "\n",
    "full$class_ <- data$class_\n",
    "full$id <- data$id\n",
    "full$tech <- data$Method\n",
    "full <- reshape2::melt(full,id=c(\"class_\", \"id\", \"tech\"), value.name = \"predicted\")\n",
    "full$score <-  full$class_ == full$predicted\n",
    "full$score[full$score == TRUE] <- 1\n",
    "\n",
    "full[c('reference', 'method', \"size\", \"set\", \"genes\")] <- stringr::str_split_fixed(full$variable, '_', 5)\n",
    "unique(full$method)\n",
    "\n",
    "head(full[full$method == \"ItClust\",])\n",
    "full <- full[full$size == 3090 & full$set==0 & full$genes %in% c(\"1000.txt\", \"0\"),]\n",
    "unique(full$method)\n",
    "\n",
    "full <- full[, c(\"id\", \"class_\", \"method\", \"score\", \"predicted\", \"tech\")]\n"
   ]
  },
  {
   "cell_type": "code",
   "execution_count": null,
   "id": "a0dcc7cb-7730-4a4b-91a2-29fe6ecd3eaa",
   "metadata": {},
   "outputs": [],
   "source": [
    "mosaic1$accuracy[is.na(mosaic1$accuracy)]<- 0\n",
    "mono1$accuracy[is.na(mono1$accuracy)]<- 0"
   ]
  },
  {
   "cell_type": "code",
   "execution_count": null,
   "id": "024be559-7768-4941-992c-edd8afddf5cd",
   "metadata": {},
   "outputs": [],
   "source": [
    "unique(full$method)"
   ]
  },
  {
   "cell_type": "code",
   "execution_count": null,
   "id": "55141f89-8320-4a1d-9ae2-7bce701844cf",
   "metadata": {},
   "outputs": [],
   "source": [
    "mosaic_umap <- tidyr::pivot_wider(mosaic1, names_from = c(method), values_from = accuracy,\n",
    "                             names_prefix=\"mosaic_\")\n",
    "mono_umap <- tidyr::pivot_wider(mono1, names_from = c(method), values_from = accuracy,\n",
    "                             names_prefix=\"mono_\")\n",
    "\n",
    "\n",
    "\n",
    "\n",
    "pred <- merge(mosaic_umap, mono_umap, all=TRUE,by=c(\"id\") )\n",
    "head(pred)\n",
    "\n",
    "full1_umap <- tidyr::pivot_wider(full[, colnames(full) != \"predicted\"], names_from = c(method),\n",
    "                             values_from = score,\n",
    "                             names_prefix=\"full_\")\n",
    "nrow(full1_umap)\n",
    "full2_umap <- tidyr::pivot_wider(full[, colnames(full) != \"score\"], names_from = c(method),\n",
    "                             values_from = predicted,\n",
    "                             names_prefix=\"fullPred_\")\n",
    "nrow(full2_umap)\n",
    "\n",
    "full1_umap$class_ <- NULL\n",
    "full1_umap$tech <- NULL"
   ]
  },
  {
   "cell_type": "code",
   "execution_count": null,
   "id": "1e247e79-38d5-48d5-941b-c575176a7267",
   "metadata": {},
   "outputs": [],
   "source": [
    "\n",
    "umap <- Reduce(function(x, y) merge(x, y, all=TRUE,by=c(\"id\") ),\n",
    "               list(mosaic_umap, mono_umap, full1_umap, full2_umap))\n",
    "head(umap)\n"
   ]
  },
  {
   "cell_type": "code",
   "execution_count": null,
   "id": "f4779a2f-12ab-42c0-a85a-7c6dd755133d",
   "metadata": {},
   "outputs": [],
   "source": [
    "\n",
    "write.table(umap, \"../Results/Files/umap_data.csv\", sep=\",\")"
   ]
  }
 ],
 "metadata": {
  "kernelspec": {
   "display_name": "R",
   "language": "R",
   "name": "ir"
  },
  "language_info": {
   "codemirror_mode": "r",
   "file_extension": ".r",
   "mimetype": "text/x-r-source",
   "name": "R",
   "pygments_lexer": "r",
   "version": "4.2.2"
  }
 },
 "nbformat": 4,
 "nbformat_minor": 5
}
