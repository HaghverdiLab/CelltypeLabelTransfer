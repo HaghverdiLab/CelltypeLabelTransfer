{
 "cells": [
  {
   "cell_type": "code",
   "execution_count": 1,
   "id": "778cddb7-ebbf-4efc-8791-0c5f8eb66dd5",
   "metadata": {},
   "outputs": [
    {
     "name": "stderr",
     "output_type": "stream",
     "text": [
      "Attaching SeuratObject\n",
      "\n"
     ]
    }
   ],
   "source": [
    "library(Seurat)\n",
    "library(SignacX)\n",
    "source(\"/fast/AG_Haghverdi/Carla_Moelbert/Celltype_annotation/Scripts/functions.R\")"
   ]
  },
  {
   "cell_type": "code",
   "execution_count": 12,
   "id": "bd704c38-7ef1-4ed4-bf45-f482742f1462",
   "metadata": {},
   "outputs": [
    {
     "name": "stderr",
     "output_type": "stream",
     "text": [
      "Warning message in data.table::fread(data, sep = \",\", verbose = F):\n",
      "“Detected 9666 column names but the data has 9667 columns (i.e. invalid file). Added 1 extra default column name for the first column which is guessed to be row names or an index. Use setnames() afterwards if this guess is not correct, or fix the file write command that created the file to create a valid file.”\n"
     ]
    },
    {
     "data": {
      "text/plain": [
       "An object of class Seurat \n",
       "33658 features across 9666 samples within 1 assay \n",
       "Active assay: RNA (33658 features, 0 variable features)"
      ]
     },
     "metadata": {},
     "output_type": "display_data"
    },
    {
     "data": {
      "text/plain": [
       "Assay data with 33658 features for 9666 cells\n",
       "First 10 features:\n",
       " TSPAN6, TNMD, DPM1, SCYL3, C1orf112, FGR, CFH, FUCA2, GCLC, NFYA "
      ]
     },
     "metadata": {},
     "output_type": "display_data"
    }
   ],
   "source": [
    "data = \"/fast/AG_Haghverdi/Carla_Moelbert/Celltype_annotation/Data/Subsets/PBMC10x_3090_0/data_train.txt\"\n",
    "meta = \"/fast/AG_Haghverdi/Carla_Moelbert/Celltype_annotation/Data/Subsets/PBMC10x_3090_0/meta_train.txt\"\n",
    "\n",
    "counts <- as.data.frame(readData(data))\n",
    "metadata <- read.csv(meta)\n",
    "metadata <- metadata[metadata$id %in% colnames(counts),]\n",
    "counts <- counts[, colnames(counts) %in% metadata$id]\n",
    "rownames(metadata)<- metadata$id\n",
    "    \n",
    "data <-  CreateSeuratObject(counts = counts, meta.data = metadata) \n",
    "\n",
    "data\n",
    "GetAssay(data)"
   ]
  },
  {
   "cell_type": "code",
   "execution_count": 56,
   "id": "3f39d553-7034-48a5-a3e8-be7587836822",
   "metadata": {},
   "outputs": [
    {
     "data": {
      "text/html": [
       "<style>\n",
       ".list-inline {list-style: none; margin:0; padding: 0}\n",
       ".list-inline>li {display: inline-block}\n",
       ".list-inline>li:not(:last-child)::after {content: \"\\00b7\"; padding: 0 .5ex}\n",
       "</style>\n",
       "<ol class=list-inline><li>'CD14+ monocyte'</li><li>'Dendritic cell'</li><li>'Cytotoxic T cell'</li><li>'CD16+ monocyte'</li><li>'Plasmacytoid dendritic cell'</li><li>'B cell'</li><li>'Natural killer cell'</li><li>'CD4+ T cell'</li><li>'Megakaryocyte'</li></ol>\n"
      ],
      "text/latex": [
       "\\begin{enumerate*}\n",
       "\\item 'CD14+ monocyte'\n",
       "\\item 'Dendritic cell'\n",
       "\\item 'Cytotoxic T cell'\n",
       "\\item 'CD16+ monocyte'\n",
       "\\item 'Plasmacytoid dendritic cell'\n",
       "\\item 'B cell'\n",
       "\\item 'Natural killer cell'\n",
       "\\item 'CD4+ T cell'\n",
       "\\item 'Megakaryocyte'\n",
       "\\end{enumerate*}\n"
      ],
      "text/markdown": [
       "1. 'CD14+ monocyte'\n",
       "2. 'Dendritic cell'\n",
       "3. 'Cytotoxic T cell'\n",
       "4. 'CD16+ monocyte'\n",
       "5. 'Plasmacytoid dendritic cell'\n",
       "6. 'B cell'\n",
       "7. 'Natural killer cell'\n",
       "8. 'CD4+ T cell'\n",
       "9. 'Megakaryocyte'\n",
       "\n",
       "\n"
      ],
      "text/plain": [
       "[1] \"CD14+ monocyte\"              \"Dendritic cell\"             \n",
       "[3] \"Cytotoxic T cell\"            \"CD16+ monocyte\"             \n",
       "[5] \"Plasmacytoid dendritic cell\" \"B cell\"                     \n",
       "[7] \"Natural killer cell\"         \"CD4+ T cell\"                \n",
       "[9] \"Megakaryocyte\"              "
      ]
     },
     "metadata": {},
     "output_type": "display_data"
    }
   ],
   "source": [
    "unique(metadata$class_)"
   ]
  },
  {
   "cell_type": "code",
   "execution_count": 74,
   "id": "4c466aba-2ee6-44d2-aa16-74bda5791a4a",
   "metadata": {},
   "outputs": [
    {
     "name": "stdout",
     "output_type": "stream",
     "text": [
      " ..........  Entry in SignacBoot \n",
      " ..........  Running SignacBoot on input Seurat object :\n",
      "             nrow = 18762\n",
      "             ncol = 9666\n"
     ]
    },
    {
     "ename": "ERROR",
     "evalue": "Error in rbind(dd, dd2): number of columns of matrices must match (see arg 2)\n",
     "output_type": "error",
     "traceback": [
      "Error in rbind(dd, dd2): number of columns of matrices must match (see arg 2)\nTraceback:\n",
      "1. SignacBoot(E = data, L = c(\"B cell\", \"Cytotoxic T cell\"), labels = data@meta.data$class_, \n .     verbose = TRUE, logfc.threshold = 1, p.val.adj = 0.1, impute = F)",
      "2. lapply(cts, function(x) {\n .     logik = rownames(dat) %in% x$gene\n .     dummy = dat[logik, ]\n .     logik = as.character(x$cluster[1]) == labels\n .     dummy = dummy[, logik]\n .     dd = t(apply(dummy, 1, function(z) {\n .         sample(z, size = size, replace = TRUE)\n .     }))\n .     dd = t(apply(dd, 1, function(z) {\n .         stats::rnorm(n = length(z), mean = mean(z), sd = sd(z))\n .     }))\n .     logik = !rownames(dat) %in% x$gene\n .     dummy = dat[logik, ]\n .     logik = as.character(x$cluster[1]) == labels\n .     dummy = dummy[, logik]\n .     dd2 = t(apply(dummy, 1, function(z) {\n .         sample(z, size = size, replace = TRUE)\n .     }))\n .     dd2 = t(apply(dd2, 1, function(z) {\n .         stats::rnorm(n = length(z), mean = mean(z), sd = sd(z))\n .     }))\n .     rbind(dd, dd2)\n . })   # at line 60-82 of file <text>",
      "3. FUN(X[[i]], ...)",
      "4. rbind(dd, dd2)   # at line 81 of file <text>"
     ]
    }
   ],
   "source": [
    "\n",
    "R_learned = SignacBoot(E = data, L = c(\"B cell\", \"Cytotoxic T cell\"), labels = data@meta.data$class_, verbose= TRUE, logfc.threshold = 1,  p.val.adj = 0.1, impute=F)\n"
   ]
  },
  {
   "cell_type": "code",
   "execution_count": null,
   "id": "484dee23-b8f9-43d3-ad74-7cb2ad16be65",
   "metadata": {},
   "outputs": [],
   "source": [
    "save(R_learned, file = \"../Data/training_PBMC_signacx.rda\")"
   ]
  },
  {
   "cell_type": "code",
   "execution_count": 25,
   "id": "d40ea1ce-62ff-47f6-b684-ec9c3b081a22",
   "metadata": {},
   "outputs": [
    {
     "name": "stderr",
     "output_type": "stream",
     "text": [
      "Calculating cell attributes from input UMI matrix: log_umi\n",
      "\n",
      "Variance stabilizing transformation of count matrix of size 18762 by 9666\n",
      "\n",
      "Model formula is y ~ log_umi\n",
      "\n",
      "Get Negative Binomial regression parameters per gene\n",
      "\n",
      "Using 2000 genes, 5000 cells\n",
      "\n"
     ]
    },
    {
     "name": "stdout",
     "output_type": "stream",
     "text": [
      "  |======================================================================| 100%\n"
     ]
    },
    {
     "name": "stderr",
     "output_type": "stream",
     "text": [
      "Found 79 outliers - those will be ignored in fitting/regularization step\n",
      "\n",
      "\n",
      "Second step: Get residuals using fitted parameters for 18762 genes\n",
      "\n"
     ]
    },
    {
     "name": "stdout",
     "output_type": "stream",
     "text": [
      "  |======================================================================| 100%\n"
     ]
    },
    {
     "name": "stderr",
     "output_type": "stream",
     "text": [
      "Computing corrected count matrix for 18762 genes\n",
      "\n"
     ]
    },
    {
     "name": "stdout",
     "output_type": "stream",
     "text": [
      "  |======================================================================| 100%\n"
     ]
    },
    {
     "name": "stderr",
     "output_type": "stream",
     "text": [
      "Calculating gene attributes\n",
      "\n",
      "Wall clock passed: Time difference of 3.127157 mins\n",
      "\n",
      "Determine variable features\n",
      "\n",
      "Place corrected count matrix in counts slot\n",
      "\n",
      "Centering data matrix\n",
      "\n",
      "Set default assay to SCT\n",
      "\n"
     ]
    }
   ],
   "source": [
    "data <- SCTransform(data)\n",
    "data <- RunPCA(data, verbose = FALSE)\n",
    "data <- RunUMAP(data, dims = 1:30, verbose = FALSE)\n",
    "data <- FindNeighbors(data, dims = 1:30, verbose = FALSE)\n"
   ]
  },
  {
   "cell_type": "code",
   "execution_count": null,
   "id": "66ada32b-f7f5-4252-804c-1464ed47522a",
   "metadata": {},
   "outputs": [],
   "source": []
  },
  {
   "cell_type": "code",
   "execution_count": 73,
   "id": "01228d07-5363-45bd-b5de-8784dfd9ee94",
   "metadata": {},
   "outputs": [],
   "source": [
    "SignacBoot <- function (E, L, labels, size = 1000, impute = TRUE, spring.dir = NULL, logfc.threshold = 0.25, p.val.adj = 0.05, verbose = TRUE)\n",
    "{\n",
    "  # check for Seurat object\n",
    "  flag = class(E) == \"Seurat\"\n",
    "  if (flag) {\n",
    "    default.assay <- Seurat::DefaultAssay(E)\n",
    "    edges = E@graphs[[which(grepl(paste0(default.assay, \"_nn\"), names(E@graphs)))]]\n",
    "    dM = CID.GetDistMat(edges)\n",
    "  }\n",
    "  \n",
    "  if (verbose)\n",
    "  {\n",
    "    cat(\" ..........  Entry in SignacBoot \\n\");\n",
    "    ta = proc.time()[3];\n",
    "    \n",
    "    # main function\n",
    "    cat(ifelse(!flag, c(\" ..........  Running SignacBoot on input data matrix :\\n\"), c(\" ..........  Running SignacBoot on input Seurat object :\\n\")))\n",
    "    cat(\"             nrow = \", nrow(E), \"\\n\", sep = \"\");\n",
    "    cat(\"             ncol = \", ncol(E), \"\\n\", sep = \"\");\n",
    "  }\n",
    "  \n",
    "  # set up imputation matrices\n",
    "  if (impute & !flag){\n",
    "    edges = CID.LoadEdges(data.dir = spring.dir)\n",
    "    dM = CID.GetDistMat(edges)\n",
    "    louvain = CID.Louvain(edges = edges)\n",
    "  } else {\n",
    "    louvain = CID.Louvain(edges = edges)\n",
    "  }\n",
    "  \n",
    "  # keep only unique row names\n",
    "  logik = CID.IsUnique(rownames(E))\n",
    "  if (!flag) {\n",
    "    V = E[logik,]\n",
    "    colnames(V) <- 1:ncol(V)\n",
    "  } else {\n",
    "    V = E@assays[[default.assay]]@counts[logik,]\n",
    "  }\n",
    "\n",
    "  # run feature selection\n",
    "  ctrl <- Seurat::CreateSeuratObject(counts = V[,labels %in% L], project = \"Signac\", min.cells = 0)\n",
    "  ctrl <- Seurat::NormalizeData(ctrl)\n",
    "  ctrl <- Seurat::AddMetaData(ctrl, metadata=labels[labels %in% L], col.name = \"celltypes\")\n",
    "  ctrl <- Seurat::SetIdent(ctrl, value='celltypes')\n",
    "  mrks = Seurat::FindMarkers(ctrl, ident.1 = L[1], ident.2 = L[2], only.pos = FALSE, logfc.threshold = logfc.threshold)\n",
    "  mrks = mrks[mrks$p_val_adj < p.val.adj,]\n",
    "  # bootstrap data\n",
    "  dat = V[rownames(V) %in% rownames(mrks),]\n",
    "  mrks$cluster = L[1]\n",
    "  mrks$cluster[mrks$avg_log2FC < 0] = L[2]\n",
    "  mrks$gene = rownames(mrks)\n",
    "  \n",
    "  xx = labels\n",
    "  \n",
    "  # run imputation (if desired)\n",
    "  if (impute)\n",
    "    Z = KSoftImpute(E = dat, dM = dM, verbose = FALSE)\n",
    "  \n",
    "  cts = split.data.frame(mrks, f = mrks$cluster)\n",
    "  N = lapply(cts, function(x){\n",
    "      # first sample from cells in cluster 1, size cells\n",
    "      logik = rownames(dat) %in% x$gene\n",
    "      dummy = dat[logik,]\n",
    "      logik = as.character(x$cluster[1]) == labels\n",
    "      dummy = dummy[,logik]\n",
    "      dd = t(apply(dummy, 1, function(z) {\n",
    "        sample(z, size = size, replace = TRUE)}))\n",
    "      dd = t(apply(dd, 1, function(z){\n",
    "        stats::rnorm(n = length(z), mean = mean(z), sd = sd(z))\n",
    "      }))\n",
    "      # now sample from cells in cluster 2, size cells with True Negative Expr.\n",
    "      logik = !rownames(dat) %in% x$gene\n",
    "      dummy = dat[logik,]\n",
    "      logik = as.character(x$cluster[1]) == labels\n",
    "      dummy = dummy[,logik]\n",
    "      dd2 = t(apply(dummy, 1, function(z) {\n",
    "        sample(z, size = size, replace = TRUE)}))\n",
    "      dd2 = t(apply(dd2, 1, function(z){\n",
    "        stats::rnorm(n = length(z), mean = mean(z), sd = sd(z))\n",
    "      }))\n",
    "      rbind(dd, dd2)\n",
    "    })\n",
    "    N2 = merge(N[[1]],N[[2]],by=\"row.names\")\n",
    "    rownames(N2) <- N2$Row.names\n",
    "    N2 = t(N2[,-1])\n",
    "    # normalize\n",
    "    normalize <- function(x) {\n",
    "      return ((x - min(x)) / (max(x) - min(x)))\n",
    "    }\n",
    "    N2 = apply(N2, 2, function(x){\n",
    "      normalize(x)\n",
    "    })\n",
    "  boot = data.frame(N2, celltypes = c(rep(names(cts)[1], size), rep(names(cts)[2], size)))\n",
    "  colnames(boot) <- gsub(pattern = \"\\\\.\", replacement = \"-\", x = colnames(boot))\n",
    "  \n",
    "  boot = list(genes = colnames(boot)[-ncol(boot)],\n",
    "              Reference = list(boot))\n",
    "  \n",
    "  if (verbose) {\n",
    "    tb = proc.time()[3] - ta;\n",
    "    cat(\"\\n ..........  Exit SignacBoot.\\n\");\n",
    "    cat(\"             Execution time = \", tb, \" s.\\n\", sep = \"\");\n",
    "  }\n",
    "  return(boot)\n",
    "}"
   ]
  },
  {
   "cell_type": "code",
   "execution_count": null,
   "id": "3f93eef1-7a90-4839-abda-d663f6e0e434",
   "metadata": {},
   "outputs": [],
   "source": []
  }
 ],
 "metadata": {
  "kernelspec": {
   "display_name": "R",
   "language": "R",
   "name": "ir"
  },
  "language_info": {
   "codemirror_mode": "r",
   "file_extension": ".r",
   "mimetype": "text/x-r-source",
   "name": "R",
   "pygments_lexer": "r",
   "version": "4.2.2"
  }
 },
 "nbformat": 4,
 "nbformat_minor": 5
}
