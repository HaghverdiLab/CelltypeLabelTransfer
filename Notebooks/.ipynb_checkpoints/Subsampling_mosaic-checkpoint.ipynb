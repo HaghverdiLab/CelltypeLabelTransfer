{
 "cells": [
  {
   "cell_type": "code",
   "execution_count": 1,
   "id": "5a4266a7-eed1-4122-84a2-7c0445d5fc74",
   "metadata": {},
   "outputs": [],
   "source": [
    "source(\"/fast/AG_Haghverdi/Carla_Moelbert/Celltype_annotation/Scripts/preparation_functions.r\")\n",
    "source(\"/fast/AG_Haghverdi/Carla_Moelbert/Celltype_annotation/Scripts/functions.R\")"
   ]
  },
  {
   "cell_type": "code",
   "execution_count": 2,
   "id": "23c4464d-2a81-4df6-a21a-bb2154e049e3",
   "metadata": {},
   "outputs": [
    {
     "ename": "ERROR",
     "evalue": "Error in parse(text = x, srcfile = src): <text>:54:0: unexpected end of input\n52: } \n53: \n   ^\n",
     "output_type": "error",
     "traceback": [
      "Error in parse(text = x, srcfile = src): <text>:54:0: unexpected end of input\n52: } \n53: \n   ^\nTraceback:\n"
     ]
    }
   ],
   "source": [
    "          \n",
    "\n",
    "\n",
    "                               \n",
    "\n",
    "\n",
    "write_full <- function(data, meta, name, output){\n",
    "    \n",
    "    \n",
    "    out <- paste(sep=\"/\", output, paste(sep=\"_\",name, max(table(meta$class_)), \"0\"))\n",
    "    if(!dir.exists(out)) dir.create(out)\n",
    "\n",
    "    write.table(meta, paste(sep=\"/\", out, \"meta_train.txt\"), sep=\",\",\n",
    "              row.names = F, col.names = T, quote = F)\n",
    "  \n",
    "    data_sub <- data[,colnames(data) %in% meta$id]\n",
    "                               \n",
    "    write.table(data_sub, paste(sep=\"/\", out, \"data_train.txt\"), sep=\",\",\n",
    "              row.names = T, col.names = T, quote = F)  \n",
    "\n",
    "} \n"
   ]
  },
  {
   "cell_type": "code",
   "execution_count": 2,
   "id": "31325489-43bc-46cd-9e4d-f6ee2be8f902",
   "metadata": {},
   "outputs": [],
   "source": [
    "input = \"../Data/Fulldata/PBMCMosaic_Reference/\"\n",
    "output = \"../Data/Subsets/\"\n",
    "nr = 300\n"
   ]
  },
  {
   "cell_type": "code",
   "execution_count": 3,
   "id": "d12fb879-0741-4003-af1a-1021ac65ca95",
   "metadata": {},
   "outputs": [
    {
     "name": "stderr",
     "output_type": "stream",
     "text": [
      "Warning message in data.table::fread(data, sep = \",\", verbose = F):\n",
      "“Detected 19539 column names but the data has 19540 columns (i.e. invalid file). Added 1 extra default column name for the first column which is guessed to be row names or an index. Use setnames() afterwards if this guess is not correct, or fix the file write command that created the file to create a valid file.”\n"
     ]
    }
   ],
   "source": [
    "meta <- read.csv(paste(sep=\"/\", input, \"meta.csv\"))\n",
    "data <- readData(paste(sep=\"/\", input, \"data.csv\")) \n"
   ]
  },
  {
   "cell_type": "code",
   "execution_count": 4,
   "id": "369fc204-6e41-43bd-8011-066f4911f575",
   "metadata": {},
   "outputs": [
    {
     "data": {
      "text/html": [
       "<table class=\"dataframe\">\n",
       "<caption>A data.frame: 6 × 8</caption>\n",
       "<thead>\n",
       "\t<tr><th></th><th scope=col>id</th><th scope=col>nGene</th><th scope=col>nUMI</th><th scope=col>percent.mito</th><th scope=col>Cluster</th><th scope=col>class_</th><th scope=col>Experiment</th><th scope=col>Method</th></tr>\n",
       "\t<tr><th></th><th scope=col>&lt;chr&gt;</th><th scope=col>&lt;int&gt;</th><th scope=col>&lt;int&gt;</th><th scope=col>&lt;dbl&gt;</th><th scope=col>&lt;int&gt;</th><th scope=col>&lt;chr&gt;</th><th scope=col>&lt;chr&gt;</th><th scope=col>&lt;chr&gt;</th></tr>\n",
       "</thead>\n",
       "<tbody>\n",
       "\t<tr><th scope=row>1</th><td>pbmc1_10x_v2_A_AAAGATGCAAAGTCAA</td><td> 851</td><td>2177</td><td>0.03812586</td><td>5</td><td>CD14+ monocyte</td><td>pbmc1</td><td>10x</td></tr>\n",
       "\t<tr><th scope=row>2</th><td>pbmc1_10x_v2_A_AAAGCAAGTAGGAGTC</td><td>1078</td><td>3065</td><td>0.04176183</td><td>5</td><td>CD14+ monocyte</td><td>pbmc1</td><td>10x</td></tr>\n",
       "\t<tr><th scope=row>3</th><td>pbmc1_10x_v2_A_AAAGCAATCGGTTCGG</td><td> 538</td><td> 977</td><td>0.09928352</td><td>4</td><td>CD14+ monocyte</td><td>pbmc1</td><td>10x</td></tr>\n",
       "\t<tr><th scope=row>4</th><td>pbmc1_10x_v2_A_AAAGTAGTCATTTGGG</td><td>1544</td><td>4933</td><td>0.04277316</td><td>5</td><td>CD14+ monocyte</td><td>pbmc1</td><td>10x</td></tr>\n",
       "\t<tr><th scope=row>5</th><td>pbmc1_10x_v2_A_AAAGTAGTCCGAGCCA</td><td> 632</td><td>1487</td><td>0.04774714</td><td>4</td><td>CD14+ monocyte</td><td>pbmc1</td><td>10x</td></tr>\n",
       "\t<tr><th scope=row>6</th><td>pbmc1_10x_v2_A_AAATGCCGTGGCAAAC</td><td> 666</td><td>1575</td><td>0.04888889</td><td>4</td><td>CD14+ monocyte</td><td>pbmc1</td><td>10x</td></tr>\n",
       "</tbody>\n",
       "</table>\n"
      ],
      "text/latex": [
       "A data.frame: 6 × 8\n",
       "\\begin{tabular}{r|llllllll}\n",
       "  & id & nGene & nUMI & percent.mito & Cluster & class\\_ & Experiment & Method\\\\\n",
       "  & <chr> & <int> & <int> & <dbl> & <int> & <chr> & <chr> & <chr>\\\\\n",
       "\\hline\n",
       "\t1 & pbmc1\\_10x\\_v2\\_A\\_AAAGATGCAAAGTCAA &  851 & 2177 & 0.03812586 & 5 & CD14+ monocyte & pbmc1 & 10x\\\\\n",
       "\t2 & pbmc1\\_10x\\_v2\\_A\\_AAAGCAAGTAGGAGTC & 1078 & 3065 & 0.04176183 & 5 & CD14+ monocyte & pbmc1 & 10x\\\\\n",
       "\t3 & pbmc1\\_10x\\_v2\\_A\\_AAAGCAATCGGTTCGG &  538 &  977 & 0.09928352 & 4 & CD14+ monocyte & pbmc1 & 10x\\\\\n",
       "\t4 & pbmc1\\_10x\\_v2\\_A\\_AAAGTAGTCATTTGGG & 1544 & 4933 & 0.04277316 & 5 & CD14+ monocyte & pbmc1 & 10x\\\\\n",
       "\t5 & pbmc1\\_10x\\_v2\\_A\\_AAAGTAGTCCGAGCCA &  632 & 1487 & 0.04774714 & 4 & CD14+ monocyte & pbmc1 & 10x\\\\\n",
       "\t6 & pbmc1\\_10x\\_v2\\_A\\_AAATGCCGTGGCAAAC &  666 & 1575 & 0.04888889 & 4 & CD14+ monocyte & pbmc1 & 10x\\\\\n",
       "\\end{tabular}\n"
      ],
      "text/markdown": [
       "\n",
       "A data.frame: 6 × 8\n",
       "\n",
       "| <!--/--> | id &lt;chr&gt; | nGene &lt;int&gt; | nUMI &lt;int&gt; | percent.mito &lt;dbl&gt; | Cluster &lt;int&gt; | class_ &lt;chr&gt; | Experiment &lt;chr&gt; | Method &lt;chr&gt; |\n",
       "|---|---|---|---|---|---|---|---|---|\n",
       "| 1 | pbmc1_10x_v2_A_AAAGATGCAAAGTCAA |  851 | 2177 | 0.03812586 | 5 | CD14+ monocyte | pbmc1 | 10x |\n",
       "| 2 | pbmc1_10x_v2_A_AAAGCAAGTAGGAGTC | 1078 | 3065 | 0.04176183 | 5 | CD14+ monocyte | pbmc1 | 10x |\n",
       "| 3 | pbmc1_10x_v2_A_AAAGCAATCGGTTCGG |  538 |  977 | 0.09928352 | 4 | CD14+ monocyte | pbmc1 | 10x |\n",
       "| 4 | pbmc1_10x_v2_A_AAAGTAGTCATTTGGG | 1544 | 4933 | 0.04277316 | 5 | CD14+ monocyte | pbmc1 | 10x |\n",
       "| 5 | pbmc1_10x_v2_A_AAAGTAGTCCGAGCCA |  632 | 1487 | 0.04774714 | 4 | CD14+ monocyte | pbmc1 | 10x |\n",
       "| 6 | pbmc1_10x_v2_A_AAATGCCGTGGCAAAC |  666 | 1575 | 0.04888889 | 4 | CD14+ monocyte | pbmc1 | 10x |\n",
       "\n"
      ],
      "text/plain": [
       "  id                              nGene nUMI percent.mito Cluster\n",
       "1 pbmc1_10x_v2_A_AAAGATGCAAAGTCAA  851  2177 0.03812586   5      \n",
       "2 pbmc1_10x_v2_A_AAAGCAAGTAGGAGTC 1078  3065 0.04176183   5      \n",
       "3 pbmc1_10x_v2_A_AAAGCAATCGGTTCGG  538   977 0.09928352   4      \n",
       "4 pbmc1_10x_v2_A_AAAGTAGTCATTTGGG 1544  4933 0.04277316   5      \n",
       "5 pbmc1_10x_v2_A_AAAGTAGTCCGAGCCA  632  1487 0.04774714   4      \n",
       "6 pbmc1_10x_v2_A_AAATGCCGTGGCAAAC  666  1575 0.04888889   4      \n",
       "  class_         Experiment Method\n",
       "1 CD14+ monocyte pbmc1      10x   \n",
       "2 CD14+ monocyte pbmc1      10x   \n",
       "3 CD14+ monocyte pbmc1      10x   \n",
       "4 CD14+ monocyte pbmc1      10x   \n",
       "5 CD14+ monocyte pbmc1      10x   \n",
       "6 CD14+ monocyte pbmc1      10x   "
      ]
     },
     "metadata": {},
     "output_type": "display_data"
    }
   ],
   "source": [
    "head(meta)"
   ]
  },
  {
   "cell_type": "code",
   "execution_count": 5,
   "id": "d5935ef4-de72-4e43-ac0f-7295ab5811f1",
   "metadata": {},
   "outputs": [
    {
     "data": {
      "text/html": [
       "102"
      ],
      "text/latex": [
       "102"
      ],
      "text/markdown": [
       "102"
      ],
      "text/plain": [
       "[1] 102"
      ]
     },
     "metadata": {},
     "output_type": "display_data"
    }
   ],
   "source": [
    "cpc <- max(100, min(table(meta$class_)))\n",
    "cpc <- min(1000, cpc)\n",
    "cpc"
   ]
  },
  {
   "cell_type": "code",
   "execution_count": 6,
   "id": "535ec0fb-aab6-4156-b827-3ebe80855138",
   "metadata": {},
   "outputs": [
    {
     "data": {
      "text/plain": [
       "\n",
       "     10x CEL-Seq2 Drop-seq  inDrops Seq-Well \n",
       "    9666      253     3222     3222     3176 "
      ]
     },
     "metadata": {},
     "output_type": "display_data"
    }
   ],
   "source": [
    "table(meta$Method)"
   ]
  },
  {
   "cell_type": "code",
   "execution_count": 7,
   "id": "657e2153-8368-47ce-b5e1-f11759c3e084",
   "metadata": {},
   "outputs": [
    {
     "data": {
      "text/html": [
       "'PBMCMosaicBalanced'"
      ],
      "text/latex": [
       "'PBMCMosaicBalanced'"
      ],
      "text/markdown": [
       "'PBMCMosaicBalanced'"
      ],
      "text/plain": [
       "[1] \"PBMCMosaicBalanced\""
      ]
     },
     "metadata": {},
     "output_type": "display_data"
    }
   ],
   "source": [
    "name =  unlist(stringr::str_split(basename(input), \"_\"))[1]\n",
    "name <- paste0(name, \"Balanced\")\n",
    "name"
   ]
  },
  {
   "cell_type": "code",
   "execution_count": 8,
   "id": "da559069-68e4-4fc0-b49a-2f4e435c2031",
   "metadata": {},
   "outputs": [
    {
     "name": "stdout",
     "output_type": "stream",
     "text": [
      "[1] 16317\n"
     ]
    }
   ],
   "source": [
    "ids <- Reduce(intersect,list(meta$id, colnames(data)))\n",
    "print(length(ids))\n",
    "meta <- meta[meta$id  %in% ids,]  "
   ]
  },
  {
   "cell_type": "code",
   "execution_count": 9,
   "id": "bbde21cb-3002-4363-806f-e73776acf868",
   "metadata": {},
   "outputs": [],
   "source": [
    "sets <- seq(1,nr,1)"
   ]
  },
  {
   "cell_type": "code",
   "execution_count": 10,
   "id": "fde805f3-29d3-4621-b938-f20c2ade0a4e",
   "metadata": {},
   "outputs": [
    {
     "data": {
      "text/html": [
       "'PBMCMosaicBalanced'"
      ],
      "text/latex": [
       "'PBMCMosaicBalanced'"
      ],
      "text/markdown": [
       "'PBMCMosaicBalanced'"
      ],
      "text/plain": [
       "[1] \"PBMCMosaicBalanced\""
      ]
     },
     "metadata": {},
     "output_type": "display_data"
    },
    {
     "data": {
      "text/html": [
       "'../Data/Subsets/'"
      ],
      "text/latex": [
       "'../Data/Subsets/'"
      ],
      "text/markdown": [
       "'../Data/Subsets/'"
      ],
      "text/plain": [
       "[1] \"../Data/Subsets/\""
      ]
     },
     "metadata": {},
     "output_type": "display_data"
    }
   ],
   "source": [
    "name\n",
    "output"
   ]
  },
  {
   "cell_type": "code",
   "execution_count": null,
   "id": "bccaec7a-600a-4a63-a878-7fde0a44aaa8",
   "metadata": {},
   "outputs": [],
   "source": [
    "write_random <- function(data, meta, step, set, name, output, col){\n",
    "    out <- paste(sep=\"/\", output, paste(sep=\"_\",name, step, set))\n",
    "    if(!dir.exists(out)) dir.create(out)\n",
    "    \n",
    "\n",
    "    meta_sub <- do.call(rbind,\n",
    "                        lapply(unique(meta$class_),\n",
    "                               function(type) get_random(meta, step, type,set, col)))\n",
    "   \n",
    "    write.table(meta_sub, paste(sep=\"/\", out, \"meta_train.txt\"), sep=\",\",\n",
    "              row.names = F, col.names = T, quote = F)\n",
    "  \n",
    "    data_sub <- data[,colnames(data) %in% meta_sub$id]\n",
    "    \n",
    "    \n",
    "                               \n",
    "    write.table(data_sub, paste(sep=\"/\", out, \"data_train.txt\"), sep=\",\",\n",
    "              row.names = T, col.names = T, quote = F)  \n",
    "\n",
    "} \n",
    "                               \n",
    "get_random <- function(data, cpc ,type, seed, col){\n",
    "    df <- data[data$class_ == type,]\n",
    "    if(nrow(df)<=cpc)return(df)\n",
    "    set.seed(seed)\n",
    "    print(paste(nr, type, seed))\n",
    "    nr <-  ceiling(cpc / length(table(df[col])))\n",
    "    sets <- do.call(rbind,lapply(unique(df[col]), function(c) select_random(df[df[col] == c,], nr)))\n",
    "    if(nrow(sets) < cpc){\n",
    "        nr_missing <- cpc - nrow(sets)\n",
    "        df_remain <- df[!df$id %in$ sets$id,]\n",
    "        df_add <- df_remain[sample(nrow(df_remain), nr_missing),]\n",
    "        sets <- rbind(sets,df_add)\n",
    "    }\n",
    "    return(sets)\n",
    "  \n",
    "}   \n",
    "\n",
    "select_random <- function(df,nr,){\n",
    "  if(nrow(df)<=nr)return(df)  \n",
    "  df <- df[sample(nrow(df), nr),]\n",
    "  return(df)  \n",
    "}"
   ]
  },
  {
   "cell_type": "code",
   "execution_count": 13,
   "id": "8a2fbead-e6be-4523-8786-3b4171c126c3",
   "metadata": {},
   "outputs": [
    {
     "data": {
      "text/html": [
       "<style>\n",
       ".list-inline {list-style: none; margin:0; padding: 0}\n",
       ".list-inline>li {display: inline-block}\n",
       ".list-inline>li:not(:last-child)::after {content: \"\\00b7\"; padding: 0 .5ex}\n",
       "</style>\n",
       "<ol class=list-inline><li>'CD14+ monocyte'</li><li>'Dendritic cell'</li><li>'Cytotoxic T cell'</li><li>'CD16+ monocyte'</li><li>'Plasmacytoid dendritic cell'</li><li>'B cell'</li><li>'Natural killer cell'</li><li>'CD4+ T cell'</li><li>'Megakaryocyte'</li></ol>\n"
      ],
      "text/latex": [
       "\\begin{enumerate*}\n",
       "\\item 'CD14+ monocyte'\n",
       "\\item 'Dendritic cell'\n",
       "\\item 'Cytotoxic T cell'\n",
       "\\item 'CD16+ monocyte'\n",
       "\\item 'Plasmacytoid dendritic cell'\n",
       "\\item 'B cell'\n",
       "\\item 'Natural killer cell'\n",
       "\\item 'CD4+ T cell'\n",
       "\\item 'Megakaryocyte'\n",
       "\\end{enumerate*}\n"
      ],
      "text/markdown": [
       "1. 'CD14+ monocyte'\n",
       "2. 'Dendritic cell'\n",
       "3. 'Cytotoxic T cell'\n",
       "4. 'CD16+ monocyte'\n",
       "5. 'Plasmacytoid dendritic cell'\n",
       "6. 'B cell'\n",
       "7. 'Natural killer cell'\n",
       "8. 'CD4+ T cell'\n",
       "9. 'Megakaryocyte'\n",
       "\n",
       "\n"
      ],
      "text/plain": [
       "[1] \"CD14+ monocyte\"              \"Dendritic cell\"             \n",
       "[3] \"Cytotoxic T cell\"            \"CD16+ monocyte\"             \n",
       "[5] \"Plasmacytoid dendritic cell\" \"B cell\"                     \n",
       "[7] \"Natural killer cell\"         \"CD4+ T cell\"                \n",
       "[9] \"Megakaryocyte\"              "
      ]
     },
     "metadata": {},
     "output_type": "display_data"
    },
    {
     "data": {
      "text/html": [
       "20"
      ],
      "text/latex": [
       "20"
      ],
      "text/markdown": [
       "20"
      ],
      "text/plain": [
       "[1] 20"
      ]
     },
     "metadata": {},
     "output_type": "display_data"
    }
   ],
   "source": [
    "unique(meta$class_)\n",
    "col=\"Method\"\n",
    "df <- meta[meta$class_ == 'CD14+ monocyte',]\n",
    "min(table(df[col]))"
   ]
  },
  {
   "cell_type": "code",
   "execution_count": 17,
   "id": "1aa946dc-2251-48e8-b04e-366135e9367c",
   "metadata": {},
   "outputs": [
    {
     "data": {
      "text/html": [
       "<table class=\"dataframe\">\n",
       "<caption>A data.frame: 6 × 8</caption>\n",
       "<thead>\n",
       "\t<tr><th></th><th scope=col>id</th><th scope=col>nGene</th><th scope=col>nUMI</th><th scope=col>percent.mito</th><th scope=col>Cluster</th><th scope=col>class_</th><th scope=col>Experiment</th><th scope=col>Method</th></tr>\n",
       "\t<tr><th></th><th scope=col>&lt;chr&gt;</th><th scope=col>&lt;int&gt;</th><th scope=col>&lt;int&gt;</th><th scope=col>&lt;dbl&gt;</th><th scope=col>&lt;int&gt;</th><th scope=col>&lt;chr&gt;</th><th scope=col>&lt;chr&gt;</th><th scope=col>&lt;chr&gt;</th></tr>\n",
       "</thead>\n",
       "<tbody>\n",
       "\t<tr><th scope=row>1</th><td>pbmc1_10x_v2_A_AAAGATGCAAAGTCAA</td><td> 851</td><td>2177</td><td>0.03812586</td><td>5</td><td>CD14+ monocyte</td><td>pbmc1</td><td>10x</td></tr>\n",
       "\t<tr><th scope=row>2</th><td>pbmc1_10x_v2_A_AAAGCAAGTAGGAGTC</td><td>1078</td><td>3065</td><td>0.04176183</td><td>5</td><td>CD14+ monocyte</td><td>pbmc1</td><td>10x</td></tr>\n",
       "\t<tr><th scope=row>3</th><td>pbmc1_10x_v2_A_AAAGCAATCGGTTCGG</td><td> 538</td><td> 977</td><td>0.09928352</td><td>4</td><td>CD14+ monocyte</td><td>pbmc1</td><td>10x</td></tr>\n",
       "\t<tr><th scope=row>4</th><td>pbmc1_10x_v2_A_AAAGTAGTCATTTGGG</td><td>1544</td><td>4933</td><td>0.04277316</td><td>5</td><td>CD14+ monocyte</td><td>pbmc1</td><td>10x</td></tr>\n",
       "\t<tr><th scope=row>5</th><td>pbmc1_10x_v2_A_AAAGTAGTCCGAGCCA</td><td> 632</td><td>1487</td><td>0.04774714</td><td>4</td><td>CD14+ monocyte</td><td>pbmc1</td><td>10x</td></tr>\n",
       "\t<tr><th scope=row>6</th><td>pbmc1_10x_v2_A_AAATGCCGTGGCAAAC</td><td> 666</td><td>1575</td><td>0.04888889</td><td>4</td><td>CD14+ monocyte</td><td>pbmc1</td><td>10x</td></tr>\n",
       "</tbody>\n",
       "</table>\n"
      ],
      "text/latex": [
       "A data.frame: 6 × 8\n",
       "\\begin{tabular}{r|llllllll}\n",
       "  & id & nGene & nUMI & percent.mito & Cluster & class\\_ & Experiment & Method\\\\\n",
       "  & <chr> & <int> & <int> & <dbl> & <int> & <chr> & <chr> & <chr>\\\\\n",
       "\\hline\n",
       "\t1 & pbmc1\\_10x\\_v2\\_A\\_AAAGATGCAAAGTCAA &  851 & 2177 & 0.03812586 & 5 & CD14+ monocyte & pbmc1 & 10x\\\\\n",
       "\t2 & pbmc1\\_10x\\_v2\\_A\\_AAAGCAAGTAGGAGTC & 1078 & 3065 & 0.04176183 & 5 & CD14+ monocyte & pbmc1 & 10x\\\\\n",
       "\t3 & pbmc1\\_10x\\_v2\\_A\\_AAAGCAATCGGTTCGG &  538 &  977 & 0.09928352 & 4 & CD14+ monocyte & pbmc1 & 10x\\\\\n",
       "\t4 & pbmc1\\_10x\\_v2\\_A\\_AAAGTAGTCATTTGGG & 1544 & 4933 & 0.04277316 & 5 & CD14+ monocyte & pbmc1 & 10x\\\\\n",
       "\t5 & pbmc1\\_10x\\_v2\\_A\\_AAAGTAGTCCGAGCCA &  632 & 1487 & 0.04774714 & 4 & CD14+ monocyte & pbmc1 & 10x\\\\\n",
       "\t6 & pbmc1\\_10x\\_v2\\_A\\_AAATGCCGTGGCAAAC &  666 & 1575 & 0.04888889 & 4 & CD14+ monocyte & pbmc1 & 10x\\\\\n",
       "\\end{tabular}\n"
      ],
      "text/markdown": [
       "\n",
       "A data.frame: 6 × 8\n",
       "\n",
       "| <!--/--> | id &lt;chr&gt; | nGene &lt;int&gt; | nUMI &lt;int&gt; | percent.mito &lt;dbl&gt; | Cluster &lt;int&gt; | class_ &lt;chr&gt; | Experiment &lt;chr&gt; | Method &lt;chr&gt; |\n",
       "|---|---|---|---|---|---|---|---|---|\n",
       "| 1 | pbmc1_10x_v2_A_AAAGATGCAAAGTCAA |  851 | 2177 | 0.03812586 | 5 | CD14+ monocyte | pbmc1 | 10x |\n",
       "| 2 | pbmc1_10x_v2_A_AAAGCAAGTAGGAGTC | 1078 | 3065 | 0.04176183 | 5 | CD14+ monocyte | pbmc1 | 10x |\n",
       "| 3 | pbmc1_10x_v2_A_AAAGCAATCGGTTCGG |  538 |  977 | 0.09928352 | 4 | CD14+ monocyte | pbmc1 | 10x |\n",
       "| 4 | pbmc1_10x_v2_A_AAAGTAGTCATTTGGG | 1544 | 4933 | 0.04277316 | 5 | CD14+ monocyte | pbmc1 | 10x |\n",
       "| 5 | pbmc1_10x_v2_A_AAAGTAGTCCGAGCCA |  632 | 1487 | 0.04774714 | 4 | CD14+ monocyte | pbmc1 | 10x |\n",
       "| 6 | pbmc1_10x_v2_A_AAATGCCGTGGCAAAC |  666 | 1575 | 0.04888889 | 4 | CD14+ monocyte | pbmc1 | 10x |\n",
       "\n"
      ],
      "text/plain": [
       "  id                              nGene nUMI percent.mito Cluster\n",
       "1 pbmc1_10x_v2_A_AAAGATGCAAAGTCAA  851  2177 0.03812586   5      \n",
       "2 pbmc1_10x_v2_A_AAAGCAAGTAGGAGTC 1078  3065 0.04176183   5      \n",
       "3 pbmc1_10x_v2_A_AAAGCAATCGGTTCGG  538   977 0.09928352   4      \n",
       "4 pbmc1_10x_v2_A_AAAGTAGTCATTTGGG 1544  4933 0.04277316   5      \n",
       "5 pbmc1_10x_v2_A_AAAGTAGTCCGAGCCA  632  1487 0.04774714   4      \n",
       "6 pbmc1_10x_v2_A_AAATGCCGTGGCAAAC  666  1575 0.04888889   4      \n",
       "  class_         Experiment Method\n",
       "1 CD14+ monocyte pbmc1      10x   \n",
       "2 CD14+ monocyte pbmc1      10x   \n",
       "3 CD14+ monocyte pbmc1      10x   \n",
       "4 CD14+ monocyte pbmc1      10x   \n",
       "5 CD14+ monocyte pbmc1      10x   \n",
       "6 CD14+ monocyte pbmc1      10x   "
      ]
     },
     "metadata": {},
     "output_type": "display_data"
    }
   ],
   "source": [
    "head(meta)"
   ]
  },
  {
   "cell_type": "code",
   "execution_count": 16,
   "id": "da19c7fe-c070-496e-8c79-ebcd121cb7a0",
   "metadata": {},
   "outputs": [
    {
     "data": {
      "text/html": [
       "26"
      ],
      "text/latex": [
       "26"
      ],
      "text/markdown": [
       "26"
      ],
      "text/plain": [
       "[1] 26"
      ]
     },
     "metadata": {},
     "output_type": "display_data"
    }
   ],
   "source": [
    "ceiling(cpc / length(table(df[col])))"
   ]
  },
  {
   "cell_type": "code",
   "execution_count": 15,
   "id": "5c6e3413-c1dd-4da0-af6c-6b13af7f7625",
   "metadata": {},
   "outputs": [
    {
     "data": {
      "text/plain": [
       "Method\n",
       "     10x CEL-Seq2 Drop-seq Seq-Well \n",
       "    1373       20      232     1132 "
      ]
     },
     "metadata": {},
     "output_type": "display_data"
    }
   ],
   "source": [
    "table(df[col])"
   ]
  },
  {
   "cell_type": "code",
   "execution_count": null,
   "id": "54247756-c47a-4f40-8ae7-096a44d409d3",
   "metadata": {},
   "outputs": [],
   "source": [
    "\n",
    "\n",
    "x <- lapply(sets, function(set) write_random(data, meta, cpc, set,name, output))\n",
    "\n",
    "                                   \n"
   ]
  }
 ],
 "metadata": {
  "kernelspec": {
   "display_name": "R",
   "language": "R",
   "name": "ir"
  },
  "language_info": {
   "codemirror_mode": "r",
   "file_extension": ".r",
   "mimetype": "text/x-r-source",
   "name": "R",
   "pygments_lexer": "r",
   "version": "4.2.2"
  }
 },
 "nbformat": 4,
 "nbformat_minor": 5
}
