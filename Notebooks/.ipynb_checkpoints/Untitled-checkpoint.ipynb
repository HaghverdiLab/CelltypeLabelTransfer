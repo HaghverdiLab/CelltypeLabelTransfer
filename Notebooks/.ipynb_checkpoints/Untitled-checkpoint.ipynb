{
 "cells": [
  {
   "cell_type": "code",
   "execution_count": 1,
   "id": "34306e2f-9b05-47d8-9377-72a40f17472c",
   "metadata": {},
   "outputs": [
    {
     "data": {
      "text/html": [
       "<table class=\"dataframe\">\n",
       "<caption>A data.frame: 6 × 9</caption>\n",
       "<thead>\n",
       "\t<tr><th></th><th scope=col>id</th><th scope=col>Prediction</th><th scope=col>Reference</th><th scope=col>Approach</th><th scope=col>Size</th><th scope=col>Set</th><th scope=col>class</th><th scope=col>refSize</th><th scope=col>Match</th></tr>\n",
       "\t<tr><th></th><th scope=col>&lt;chr&gt;</th><th scope=col>&lt;chr&gt;</th><th scope=col>&lt;chr&gt;</th><th scope=col>&lt;chr&gt;</th><th scope=col>&lt;int&gt;</th><th scope=col>&lt;int&gt;</th><th scope=col>&lt;chr&gt;</th><th scope=col>&lt;int&gt;</th><th scope=col>&lt;lgl&gt;</th></tr>\n",
       "</thead>\n",
       "<tbody>\n",
       "\t<tr><th scope=row>1</th><td>pbmc2_10X_V2_AAACCTGAGATGGGTC</td><td>B cell             </td><td>PBMC10x</td><td>CellID</td><td>100</td><td>1</td><td>B cell          </td><td>1022</td><td> TRUE</td></tr>\n",
       "\t<tr><th scope=row>2</th><td>pbmc2_10X_V2_AAACCTGAGCGTAATA</td><td>B cell             </td><td>PBMC10x</td><td>CellID</td><td>100</td><td>1</td><td>B cell          </td><td>1022</td><td> TRUE</td></tr>\n",
       "\t<tr><th scope=row>3</th><td>pbmc2_10X_V2_AAACCTGAGCTAGGCA</td><td>Natural killer cell</td><td>PBMC10x</td><td>CellID</td><td>100</td><td>1</td><td>Cytotoxic T cell</td><td>3090</td><td>FALSE</td></tr>\n",
       "\t<tr><th scope=row>4</th><td>pbmc2_10X_V2_AAACCTGAGGGTCTCC</td><td>Dendritic cell     </td><td>PBMC10x</td><td>CellID</td><td>100</td><td>1</td><td>Dendritic cell  </td><td> 126</td><td> TRUE</td></tr>\n",
       "\t<tr><th scope=row>5</th><td>pbmc2_10X_V2_AAACCTGGTCCGAACC</td><td>CD4+ T cell        </td><td>PBMC10x</td><td>CellID</td><td>100</td><td>1</td><td>CD4+ T cell     </td><td>2418</td><td> TRUE</td></tr>\n",
       "\t<tr><th scope=row>6</th><td>pbmc2_10X_V2_AAACCTGTCGTCCGTT</td><td>Cytotoxic T cell   </td><td>PBMC10x</td><td>CellID</td><td>100</td><td>1</td><td>CD4+ T cell     </td><td>2418</td><td>FALSE</td></tr>\n",
       "</tbody>\n",
       "</table>\n"
      ],
      "text/latex": [
       "A data.frame: 6 × 9\n",
       "\\begin{tabular}{r|lllllllll}\n",
       "  & id & Prediction & Reference & Approach & Size & Set & class & refSize & Match\\\\\n",
       "  & <chr> & <chr> & <chr> & <chr> & <int> & <int> & <chr> & <int> & <lgl>\\\\\n",
       "\\hline\n",
       "\t1 & pbmc2\\_10X\\_V2\\_AAACCTGAGATGGGTC & B cell              & PBMC10x & CellID & 100 & 1 & B cell           & 1022 &  TRUE\\\\\n",
       "\t2 & pbmc2\\_10X\\_V2\\_AAACCTGAGCGTAATA & B cell              & PBMC10x & CellID & 100 & 1 & B cell           & 1022 &  TRUE\\\\\n",
       "\t3 & pbmc2\\_10X\\_V2\\_AAACCTGAGCTAGGCA & Natural killer cell & PBMC10x & CellID & 100 & 1 & Cytotoxic T cell & 3090 & FALSE\\\\\n",
       "\t4 & pbmc2\\_10X\\_V2\\_AAACCTGAGGGTCTCC & Dendritic cell      & PBMC10x & CellID & 100 & 1 & Dendritic cell   &  126 &  TRUE\\\\\n",
       "\t5 & pbmc2\\_10X\\_V2\\_AAACCTGGTCCGAACC & CD4+ T cell         & PBMC10x & CellID & 100 & 1 & CD4+ T cell      & 2418 &  TRUE\\\\\n",
       "\t6 & pbmc2\\_10X\\_V2\\_AAACCTGTCGTCCGTT & Cytotoxic T cell    & PBMC10x & CellID & 100 & 1 & CD4+ T cell      & 2418 & FALSE\\\\\n",
       "\\end{tabular}\n"
      ],
      "text/markdown": [
       "\n",
       "A data.frame: 6 × 9\n",
       "\n",
       "| <!--/--> | id &lt;chr&gt; | Prediction &lt;chr&gt; | Reference &lt;chr&gt; | Approach &lt;chr&gt; | Size &lt;int&gt; | Set &lt;int&gt; | class &lt;chr&gt; | refSize &lt;int&gt; | Match &lt;lgl&gt; |\n",
       "|---|---|---|---|---|---|---|---|---|---|\n",
       "| 1 | pbmc2_10X_V2_AAACCTGAGATGGGTC | B cell              | PBMC10x | CellID | 100 | 1 | B cell           | 1022 |  TRUE |\n",
       "| 2 | pbmc2_10X_V2_AAACCTGAGCGTAATA | B cell              | PBMC10x | CellID | 100 | 1 | B cell           | 1022 |  TRUE |\n",
       "| 3 | pbmc2_10X_V2_AAACCTGAGCTAGGCA | Natural killer cell | PBMC10x | CellID | 100 | 1 | Cytotoxic T cell | 3090 | FALSE |\n",
       "| 4 | pbmc2_10X_V2_AAACCTGAGGGTCTCC | Dendritic cell      | PBMC10x | CellID | 100 | 1 | Dendritic cell   |  126 |  TRUE |\n",
       "| 5 | pbmc2_10X_V2_AAACCTGGTCCGAACC | CD4+ T cell         | PBMC10x | CellID | 100 | 1 | CD4+ T cell      | 2418 |  TRUE |\n",
       "| 6 | pbmc2_10X_V2_AAACCTGTCGTCCGTT | Cytotoxic T cell    | PBMC10x | CellID | 100 | 1 | CD4+ T cell      | 2418 | FALSE |\n",
       "\n"
      ],
      "text/plain": [
       "  id                            Prediction          Reference Approach Size Set\n",
       "1 pbmc2_10X_V2_AAACCTGAGATGGGTC B cell              PBMC10x   CellID   100  1  \n",
       "2 pbmc2_10X_V2_AAACCTGAGCGTAATA B cell              PBMC10x   CellID   100  1  \n",
       "3 pbmc2_10X_V2_AAACCTGAGCTAGGCA Natural killer cell PBMC10x   CellID   100  1  \n",
       "4 pbmc2_10X_V2_AAACCTGAGGGTCTCC Dendritic cell      PBMC10x   CellID   100  1  \n",
       "5 pbmc2_10X_V2_AAACCTGGTCCGAACC CD4+ T cell         PBMC10x   CellID   100  1  \n",
       "6 pbmc2_10X_V2_AAACCTGTCGTCCGTT Cytotoxic T cell    PBMC10x   CellID   100  1  \n",
       "  class            refSize Match\n",
       "1 B cell           1022     TRUE\n",
       "2 B cell           1022     TRUE\n",
       "3 Cytotoxic T cell 3090    FALSE\n",
       "4 Dendritic cell    126     TRUE\n",
       "5 CD4+ T cell      2418     TRUE\n",
       "6 CD4+ T cell      2418    FALSE"
      ]
     },
     "metadata": {},
     "output_type": "display_data"
    },
    {
     "data": {
      "text/html": [
       "74849551"
      ],
      "text/latex": [
       "74849551"
      ],
      "text/markdown": [
       "74849551"
      ],
      "text/plain": [
       "[1] 74849551"
      ]
     },
     "metadata": {},
     "output_type": "display_data"
    }
   ],
   "source": [
    "data <- read.csv(\"../Results/Files/results_long.csv\")\n",
    "head(data)\n",
    "nrow(data)"
   ]
  },
  {
   "cell_type": "code",
   "execution_count": 6,
   "id": "d195149f-3c1d-4aa9-b234-9cdb1a8bfa8a",
   "metadata": {},
   "outputs": [
    {
     "name": "stderr",
     "output_type": "stream",
     "text": [
      "\n",
      "Attaching package: ‘dplyr’\n",
      "\n",
      "\n",
      "The following objects are masked from ‘package:stats’:\n",
      "\n",
      "    filter, lag\n",
      "\n",
      "\n",
      "The following objects are masked from ‘package:base’:\n",
      "\n",
      "    intersect, setdiff, setequal, union\n",
      "\n",
      "\n",
      "Attaching SeuratObject\n",
      "\n",
      "Loading required package: viridisLite\n",
      "\n"
     ]
    }
   ],
   "source": [
    "source(\"../Scripts/functions.R\")\n",
    "source(\"../Scripts/visulizations.r\")\n",
    "library(ggplot2)\n",
    "library(dplyr)\n",
    "library(purrr)\n",
    "library(Seurat)\n",
    "library(viridis)\n",
    "library(\"RColorBrewer\")"
   ]
  },
  {
   "cell_type": "code",
   "execution_count": 4,
   "id": "26ce78df-78e6-4dfe-ba4e-5ef4499295ef",
   "metadata": {},
   "outputs": [
    {
     "data": {
      "text/html": [
       "8713274"
      ],
      "text/latex": [
       "8713274"
      ],
      "text/markdown": [
       "8713274"
      ],
      "text/plain": [
       "[1] 8713274"
      ]
     },
     "metadata": {},
     "output_type": "display_data"
    }
   ],
   "source": [
    "data <- data[data$Set <= 20 & data$Size %in% c(38,100,250, 500,1000,1500,2000,3000),]\n",
    "nrow(data)"
   ]
  },
  {
   "cell_type": "code",
   "execution_count": 7,
   "id": "1cf02800-513b-465e-ad54-3699259830a5",
   "metadata": {},
   "outputs": [],
   "source": [
    "#data <- data[data$Size == 3090,]\n",
    "data$Approach[is.na(data$Approach)] <- \"SingleCellNet\"\n",
    "measures <- do.call(rbind, lapply(unique(data$class),\n",
    "                                  function(type) do.call(rbind,lapply(unique(data$Approach),\n",
    "                                  function(method) do.call(rbind, lapply(unique(data$Size),\n",
    "                                  function(size) do.call(rbind, lapply(unique(data$Set),\n",
    "                                  function (set) get_measures(data, type, \"PBMC10x\",\n",
    "                                                              method, size,set)))))))))\n",
    "                                                              \n",
    "write.csv(measures, \"../Results/Files/values_all.csv\")   "
   ]
  },
  {
   "cell_type": "code",
   "execution_count": null,
   "id": "0b5a6366-264a-449e-ac43-6f236609d9e7",
   "metadata": {},
   "outputs": [],
   "source": [
    "data <- read.csv(\"../Results/Files/results_long.csv\")\n",
    "#data <- data[data$Size == 3090,]\n",
    "data$Approach[is.na(data$Approach)] <- \"SingleCellNet\"\n",
    "measures <- do.call(rbind, lapply(unique(data$class),\n",
    "                                  function(type) do.call(rbind,lapply(unique(data$Approach),\n",
    "                                  function(method) do.call(rbind, lapply(unique(data$Size),\n",
    "                                  function(size) do.call(rbind, lapply(unique(data$Set),\n",
    "                                  function (set) get_measures(data, type, \"PBMC10x\",\n",
    "                                                              method, size,set)))))))))\n",
    "                                                              \n",
    "write.csv(measures, \"../Results/Files/values_full.csv\") "
   ]
  },
  {
   "cell_type": "code",
   "execution_count": 2,
   "id": "92666336-fc52-4282-a255-fa16fbf0a945",
   "metadata": {},
   "outputs": [
    {
     "data": {
      "text/html": [
       "<table class=\"dataframe\">\n",
       "<caption>A data.frame: 6 × 8</caption>\n",
       "<thead>\n",
       "\t<tr><th></th><th scope=col>id</th><th scope=col>nGene</th><th scope=col>nUMI</th><th scope=col>percent.mito</th><th scope=col>Cluster</th><th scope=col>class_</th><th scope=col>Experiment</th><th scope=col>Method</th></tr>\n",
       "\t<tr><th></th><th scope=col>&lt;chr&gt;</th><th scope=col>&lt;int&gt;</th><th scope=col>&lt;int&gt;</th><th scope=col>&lt;dbl&gt;</th><th scope=col>&lt;int&gt;</th><th scope=col>&lt;chr&gt;</th><th scope=col>&lt;chr&gt;</th><th scope=col>&lt;chr&gt;</th></tr>\n",
       "</thead>\n",
       "<tbody>\n",
       "\t<tr><th scope=row>1</th><td>pbmc2_SM2_Cell_1  </td><td>3600</td><td>249336</td><td>0.04050861</td><td>4</td><td>CD14+ monocyte</td><td>pbmc2</td><td>Smart-seq2</td></tr>\n",
       "\t<tr><th scope=row>2</th><td>pbmc2_SM2_Cell_102</td><td>4265</td><td>389067</td><td>0.04063618</td><td>4</td><td>CD14+ monocyte</td><td>pbmc2</td><td>Smart-seq2</td></tr>\n",
       "\t<tr><th scope=row>3</th><td>pbmc2_SM2_Cell_118</td><td>4080</td><td>372971</td><td>0.03306646</td><td>4</td><td>CD14+ monocyte</td><td>pbmc2</td><td>Smart-seq2</td></tr>\n",
       "\t<tr><th scope=row>4</th><td>pbmc2_SM2_Cell_127</td><td>3481</td><td>446449</td><td>0.04414619</td><td>4</td><td>CD14+ monocyte</td><td>pbmc2</td><td>Smart-seq2</td></tr>\n",
       "\t<tr><th scope=row>5</th><td>pbmc2_SM2_Cell_131</td><td>2289</td><td>125429</td><td>0.05071700</td><td>4</td><td>CD14+ monocyte</td><td>pbmc2</td><td>Smart-seq2</td></tr>\n",
       "\t<tr><th scope=row>6</th><td>pbmc2_SM2_Cell_133</td><td>3735</td><td>315022</td><td>0.03587145</td><td>4</td><td>CD14+ monocyte</td><td>pbmc2</td><td>Smart-seq2</td></tr>\n",
       "</tbody>\n",
       "</table>\n"
      ],
      "text/latex": [
       "A data.frame: 6 × 8\n",
       "\\begin{tabular}{r|llllllll}\n",
       "  & id & nGene & nUMI & percent.mito & Cluster & class\\_ & Experiment & Method\\\\\n",
       "  & <chr> & <int> & <int> & <dbl> & <int> & <chr> & <chr> & <chr>\\\\\n",
       "\\hline\n",
       "\t1 & pbmc2\\_SM2\\_Cell\\_1   & 3600 & 249336 & 0.04050861 & 4 & CD14+ monocyte & pbmc2 & Smart-seq2\\\\\n",
       "\t2 & pbmc2\\_SM2\\_Cell\\_102 & 4265 & 389067 & 0.04063618 & 4 & CD14+ monocyte & pbmc2 & Smart-seq2\\\\\n",
       "\t3 & pbmc2\\_SM2\\_Cell\\_118 & 4080 & 372971 & 0.03306646 & 4 & CD14+ monocyte & pbmc2 & Smart-seq2\\\\\n",
       "\t4 & pbmc2\\_SM2\\_Cell\\_127 & 3481 & 446449 & 0.04414619 & 4 & CD14+ monocyte & pbmc2 & Smart-seq2\\\\\n",
       "\t5 & pbmc2\\_SM2\\_Cell\\_131 & 2289 & 125429 & 0.05071700 & 4 & CD14+ monocyte & pbmc2 & Smart-seq2\\\\\n",
       "\t6 & pbmc2\\_SM2\\_Cell\\_133 & 3735 & 315022 & 0.03587145 & 4 & CD14+ monocyte & pbmc2 & Smart-seq2\\\\\n",
       "\\end{tabular}\n"
      ],
      "text/markdown": [
       "\n",
       "A data.frame: 6 × 8\n",
       "\n",
       "| <!--/--> | id &lt;chr&gt; | nGene &lt;int&gt; | nUMI &lt;int&gt; | percent.mito &lt;dbl&gt; | Cluster &lt;int&gt; | class_ &lt;chr&gt; | Experiment &lt;chr&gt; | Method &lt;chr&gt; |\n",
       "|---|---|---|---|---|---|---|---|---|\n",
       "| 1 | pbmc2_SM2_Cell_1   | 3600 | 249336 | 0.04050861 | 4 | CD14+ monocyte | pbmc2 | Smart-seq2 |\n",
       "| 2 | pbmc2_SM2_Cell_102 | 4265 | 389067 | 0.04063618 | 4 | CD14+ monocyte | pbmc2 | Smart-seq2 |\n",
       "| 3 | pbmc2_SM2_Cell_118 | 4080 | 372971 | 0.03306646 | 4 | CD14+ monocyte | pbmc2 | Smart-seq2 |\n",
       "| 4 | pbmc2_SM2_Cell_127 | 3481 | 446449 | 0.04414619 | 4 | CD14+ monocyte | pbmc2 | Smart-seq2 |\n",
       "| 5 | pbmc2_SM2_Cell_131 | 2289 | 125429 | 0.05071700 | 4 | CD14+ monocyte | pbmc2 | Smart-seq2 |\n",
       "| 6 | pbmc2_SM2_Cell_133 | 3735 | 315022 | 0.03587145 | 4 | CD14+ monocyte | pbmc2 | Smart-seq2 |\n",
       "\n"
      ],
      "text/plain": [
       "  id                 nGene nUMI   percent.mito Cluster class_        \n",
       "1 pbmc2_SM2_Cell_1   3600  249336 0.04050861   4       CD14+ monocyte\n",
       "2 pbmc2_SM2_Cell_102 4265  389067 0.04063618   4       CD14+ monocyte\n",
       "3 pbmc2_SM2_Cell_118 4080  372971 0.03306646   4       CD14+ monocyte\n",
       "4 pbmc2_SM2_Cell_127 3481  446449 0.04414619   4       CD14+ monocyte\n",
       "5 pbmc2_SM2_Cell_131 2289  125429 0.05071700   4       CD14+ monocyte\n",
       "6 pbmc2_SM2_Cell_133 3735  315022 0.03587145   4       CD14+ monocyte\n",
       "  Experiment Method    \n",
       "1 pbmc2      Smart-seq2\n",
       "2 pbmc2      Smart-seq2\n",
       "3 pbmc2      Smart-seq2\n",
       "4 pbmc2      Smart-seq2\n",
       "5 pbmc2      Smart-seq2\n",
       "6 pbmc2      Smart-seq2"
      ]
     },
     "metadata": {},
     "output_type": "display_data"
    }
   ],
   "source": [
    "data <- read.csv(\"../Data/Fulldata/PBMC_Query/meta.csv\")\n",
    "head(data)"
   ]
  },
  {
   "cell_type": "code",
   "execution_count": 6,
   "id": "4b417354-e43a-4667-95cc-3161c5369605",
   "metadata": {},
   "outputs": [
    {
     "data": {
      "text/html": [
       "<table class=\"dataframe\">\n",
       "<caption>A data.frame: 6 × 6</caption>\n",
       "<thead>\n",
       "\t<tr><th></th><th scope=col>id</th><th scope=col>PBMC10x_CellID_3090_0</th><th scope=col>PBMC10x_Seurat_3090_0</th><th scope=col>PBMC10x_SingleCellNet_3090_0</th><th scope=col>PBMC10x_SingleR_3090_0</th><th scope=col>PBMC10x_ItClust_3090_0</th></tr>\n",
       "\t<tr><th></th><th scope=col>&lt;chr&gt;</th><th scope=col>&lt;chr&gt;</th><th scope=col>&lt;chr&gt;</th><th scope=col>&lt;chr&gt;</th><th scope=col>&lt;chr&gt;</th><th scope=col>&lt;chr&gt;</th></tr>\n",
       "</thead>\n",
       "<tbody>\n",
       "\t<tr><th scope=row>pbmc2_10X_V2_AAACCTGAGATGGGTC</th><td>pbmc2_10X_V2_AAACCTGAGATGGGTC</td><td>B cell          </td><td>B cell             </td><td>B cell          </td><td>B cell             </td><td>B cell          </td></tr>\n",
       "\t<tr><th scope=row>pbmc2_10X_V2_AAACCTGAGCGTAATA</th><td>pbmc2_10X_V2_AAACCTGAGCGTAATA</td><td>B cell          </td><td>B cell             </td><td>B cell          </td><td>B cell             </td><td>B cell          </td></tr>\n",
       "\t<tr><th scope=row>pbmc2_10X_V2_AAACCTGAGCTAGGCA</th><td>pbmc2_10X_V2_AAACCTGAGCTAGGCA</td><td>CD4+ T cell     </td><td>Natural killer cell</td><td>Cytotoxic T cell</td><td>Natural killer cell</td><td>Cytotoxic T cell</td></tr>\n",
       "\t<tr><th scope=row>pbmc2_10X_V2_AAACCTGAGGGTCTCC</th><td>pbmc2_10X_V2_AAACCTGAGGGTCTCC</td><td>CD14+ monocyte  </td><td>CD14+ monocyte     </td><td>CD14+ monocyte  </td><td>Dendritic cell     </td><td>CD14+ monocyte  </td></tr>\n",
       "\t<tr><th scope=row>pbmc2_10X_V2_AAACCTGGTCCGAACC</th><td>pbmc2_10X_V2_AAACCTGGTCCGAACC</td><td>CD4+ T cell     </td><td>Cytotoxic T cell   </td><td>CD4+ T cell     </td><td>CD4+ T cell        </td><td>Cytotoxic T cell</td></tr>\n",
       "\t<tr><th scope=row>pbmc2_10X_V2_AAACCTGTCGTCCGTT</th><td>pbmc2_10X_V2_AAACCTGTCGTCCGTT</td><td>Cytotoxic T cell</td><td>CD4+ T cell        </td><td>CD4+ T cell     </td><td>CD4+ T cell        </td><td>Cytotoxic T cell</td></tr>\n",
       "</tbody>\n",
       "</table>\n"
      ],
      "text/latex": [
       "A data.frame: 6 × 6\n",
       "\\begin{tabular}{r|llllll}\n",
       "  & id & PBMC10x\\_CellID\\_3090\\_0 & PBMC10x\\_Seurat\\_3090\\_0 & PBMC10x\\_SingleCellNet\\_3090\\_0 & PBMC10x\\_SingleR\\_3090\\_0 & PBMC10x\\_ItClust\\_3090\\_0\\\\\n",
       "  & <chr> & <chr> & <chr> & <chr> & <chr> & <chr>\\\\\n",
       "\\hline\n",
       "\tpbmc2\\_10X\\_V2\\_AAACCTGAGATGGGTC & pbmc2\\_10X\\_V2\\_AAACCTGAGATGGGTC & B cell           & B cell              & B cell           & B cell              & B cell          \\\\\n",
       "\tpbmc2\\_10X\\_V2\\_AAACCTGAGCGTAATA & pbmc2\\_10X\\_V2\\_AAACCTGAGCGTAATA & B cell           & B cell              & B cell           & B cell              & B cell          \\\\\n",
       "\tpbmc2\\_10X\\_V2\\_AAACCTGAGCTAGGCA & pbmc2\\_10X\\_V2\\_AAACCTGAGCTAGGCA & CD4+ T cell      & Natural killer cell & Cytotoxic T cell & Natural killer cell & Cytotoxic T cell\\\\\n",
       "\tpbmc2\\_10X\\_V2\\_AAACCTGAGGGTCTCC & pbmc2\\_10X\\_V2\\_AAACCTGAGGGTCTCC & CD14+ monocyte   & CD14+ monocyte      & CD14+ monocyte   & Dendritic cell      & CD14+ monocyte  \\\\\n",
       "\tpbmc2\\_10X\\_V2\\_AAACCTGGTCCGAACC & pbmc2\\_10X\\_V2\\_AAACCTGGTCCGAACC & CD4+ T cell      & Cytotoxic T cell    & CD4+ T cell      & CD4+ T cell         & Cytotoxic T cell\\\\\n",
       "\tpbmc2\\_10X\\_V2\\_AAACCTGTCGTCCGTT & pbmc2\\_10X\\_V2\\_AAACCTGTCGTCCGTT & Cytotoxic T cell & CD4+ T cell         & CD4+ T cell      & CD4+ T cell         & Cytotoxic T cell\\\\\n",
       "\\end{tabular}\n"
      ],
      "text/markdown": [
       "\n",
       "A data.frame: 6 × 6\n",
       "\n",
       "| <!--/--> | id &lt;chr&gt; | PBMC10x_CellID_3090_0 &lt;chr&gt; | PBMC10x_Seurat_3090_0 &lt;chr&gt; | PBMC10x_SingleCellNet_3090_0 &lt;chr&gt; | PBMC10x_SingleR_3090_0 &lt;chr&gt; | PBMC10x_ItClust_3090_0 &lt;chr&gt; |\n",
       "|---|---|---|---|---|---|---|\n",
       "| pbmc2_10X_V2_AAACCTGAGATGGGTC | pbmc2_10X_V2_AAACCTGAGATGGGTC | B cell           | B cell              | B cell           | B cell              | B cell           |\n",
       "| pbmc2_10X_V2_AAACCTGAGCGTAATA | pbmc2_10X_V2_AAACCTGAGCGTAATA | B cell           | B cell              | B cell           | B cell              | B cell           |\n",
       "| pbmc2_10X_V2_AAACCTGAGCTAGGCA | pbmc2_10X_V2_AAACCTGAGCTAGGCA | CD4+ T cell      | Natural killer cell | Cytotoxic T cell | Natural killer cell | Cytotoxic T cell |\n",
       "| pbmc2_10X_V2_AAACCTGAGGGTCTCC | pbmc2_10X_V2_AAACCTGAGGGTCTCC | CD14+ monocyte   | CD14+ monocyte      | CD14+ monocyte   | Dendritic cell      | CD14+ monocyte   |\n",
       "| pbmc2_10X_V2_AAACCTGGTCCGAACC | pbmc2_10X_V2_AAACCTGGTCCGAACC | CD4+ T cell      | Cytotoxic T cell    | CD4+ T cell      | CD4+ T cell         | Cytotoxic T cell |\n",
       "| pbmc2_10X_V2_AAACCTGTCGTCCGTT | pbmc2_10X_V2_AAACCTGTCGTCCGTT | Cytotoxic T cell | CD4+ T cell         | CD4+ T cell      | CD4+ T cell         | Cytotoxic T cell |\n",
       "\n"
      ],
      "text/plain": [
       "                              id                           \n",
       "pbmc2_10X_V2_AAACCTGAGATGGGTC pbmc2_10X_V2_AAACCTGAGATGGGTC\n",
       "pbmc2_10X_V2_AAACCTGAGCGTAATA pbmc2_10X_V2_AAACCTGAGCGTAATA\n",
       "pbmc2_10X_V2_AAACCTGAGCTAGGCA pbmc2_10X_V2_AAACCTGAGCTAGGCA\n",
       "pbmc2_10X_V2_AAACCTGAGGGTCTCC pbmc2_10X_V2_AAACCTGAGGGTCTCC\n",
       "pbmc2_10X_V2_AAACCTGGTCCGAACC pbmc2_10X_V2_AAACCTGGTCCGAACC\n",
       "pbmc2_10X_V2_AAACCTGTCGTCCGTT pbmc2_10X_V2_AAACCTGTCGTCCGTT\n",
       "                              PBMC10x_CellID_3090_0 PBMC10x_Seurat_3090_0\n",
       "pbmc2_10X_V2_AAACCTGAGATGGGTC B cell                B cell               \n",
       "pbmc2_10X_V2_AAACCTGAGCGTAATA B cell                B cell               \n",
       "pbmc2_10X_V2_AAACCTGAGCTAGGCA CD4+ T cell           Natural killer cell  \n",
       "pbmc2_10X_V2_AAACCTGAGGGTCTCC CD14+ monocyte        CD14+ monocyte       \n",
       "pbmc2_10X_V2_AAACCTGGTCCGAACC CD4+ T cell           Cytotoxic T cell     \n",
       "pbmc2_10X_V2_AAACCTGTCGTCCGTT Cytotoxic T cell      CD4+ T cell          \n",
       "                              PBMC10x_SingleCellNet_3090_0\n",
       "pbmc2_10X_V2_AAACCTGAGATGGGTC B cell                      \n",
       "pbmc2_10X_V2_AAACCTGAGCGTAATA B cell                      \n",
       "pbmc2_10X_V2_AAACCTGAGCTAGGCA Cytotoxic T cell            \n",
       "pbmc2_10X_V2_AAACCTGAGGGTCTCC CD14+ monocyte              \n",
       "pbmc2_10X_V2_AAACCTGGTCCGAACC CD4+ T cell                 \n",
       "pbmc2_10X_V2_AAACCTGTCGTCCGTT CD4+ T cell                 \n",
       "                              PBMC10x_SingleR_3090_0 PBMC10x_ItClust_3090_0\n",
       "pbmc2_10X_V2_AAACCTGAGATGGGTC B cell                 B cell                \n",
       "pbmc2_10X_V2_AAACCTGAGCGTAATA B cell                 B cell                \n",
       "pbmc2_10X_V2_AAACCTGAGCTAGGCA Natural killer cell    Cytotoxic T cell      \n",
       "pbmc2_10X_V2_AAACCTGAGGGTCTCC Dendritic cell         CD14+ monocyte        \n",
       "pbmc2_10X_V2_AAACCTGGTCCGAACC CD4+ T cell            Cytotoxic T cell      \n",
       "pbmc2_10X_V2_AAACCTGTCGTCCGTT CD4+ T cell            Cytotoxic T cell      "
      ]
     },
     "metadata": {},
     "output_type": "display_data"
    }
   ],
   "source": [
    "#results <- read.csv(\"../Results//Files//result_general.csv\")\n",
    "results <- results[, c(\"id\", colnames(results)[stringr::str_detect(colnames(results), \"3090\")])]\n",
    "head(results)"
   ]
  },
  {
   "cell_type": "code",
   "execution_count": 7,
   "id": "7ca31356-1b12-4cde-8157-91f0e14d3f0e",
   "metadata": {},
   "outputs": [
    {
     "data": {
      "text/html": [
       "<table class=\"dataframe\">\n",
       "<caption>A data.frame: 6 × 13</caption>\n",
       "<thead>\n",
       "\t<tr><th></th><th scope=col>id</th><th scope=col>nGene</th><th scope=col>nUMI</th><th scope=col>percent.mito</th><th scope=col>Cluster</th><th scope=col>class_</th><th scope=col>Experiment</th><th scope=col>Method</th><th scope=col>PBMC10x_CellID_3090_0</th><th scope=col>PBMC10x_Seurat_3090_0</th><th scope=col>PBMC10x_SingleCellNet_3090_0</th><th scope=col>PBMC10x_SingleR_3090_0</th><th scope=col>PBMC10x_ItClust_3090_0</th></tr>\n",
       "\t<tr><th></th><th scope=col>&lt;chr&gt;</th><th scope=col>&lt;int&gt;</th><th scope=col>&lt;int&gt;</th><th scope=col>&lt;dbl&gt;</th><th scope=col>&lt;int&gt;</th><th scope=col>&lt;chr&gt;</th><th scope=col>&lt;chr&gt;</th><th scope=col>&lt;chr&gt;</th><th scope=col>&lt;chr&gt;</th><th scope=col>&lt;chr&gt;</th><th scope=col>&lt;chr&gt;</th><th scope=col>&lt;chr&gt;</th><th scope=col>&lt;chr&gt;</th></tr>\n",
       "</thead>\n",
       "<tbody>\n",
       "\t<tr><th scope=row>1</th><td>pbmc2_10X_V2_AAACCTGAGATGGGTC</td><td>1044</td><td>2360</td><td>0.04194915</td><td>2</td><td>B cell          </td><td>pbmc2</td><td>10x</td><td>B cell          </td><td>B cell             </td><td>B cell          </td><td>B cell             </td><td>B cell          </td></tr>\n",
       "\t<tr><th scope=row>2</th><td>pbmc2_10X_V2_AAACCTGAGCGTAATA</td><td> 803</td><td>1888</td><td>0.04131356</td><td>2</td><td>B cell          </td><td>pbmc2</td><td>10x</td><td>B cell          </td><td>B cell             </td><td>B cell          </td><td>B cell             </td><td>B cell          </td></tr>\n",
       "\t<tr><th scope=row>3</th><td>pbmc2_10X_V2_AAACCTGAGCTAGGCA</td><td>1372</td><td>3456</td><td>0.03530093</td><td>1</td><td>Cytotoxic T cell</td><td>pbmc2</td><td>10x</td><td>CD4+ T cell     </td><td>Natural killer cell</td><td>Cytotoxic T cell</td><td>Natural killer cell</td><td>Cytotoxic T cell</td></tr>\n",
       "\t<tr><th scope=row>4</th><td>pbmc2_10X_V2_AAACCTGAGGGTCTCC</td><td>1519</td><td>3802</td><td>0.04208311</td><td>6</td><td>Dendritic cell  </td><td>pbmc2</td><td>10x</td><td>CD14+ monocyte  </td><td>CD14+ monocyte     </td><td>CD14+ monocyte  </td><td>Dendritic cell     </td><td>CD14+ monocyte  </td></tr>\n",
       "\t<tr><th scope=row>5</th><td>pbmc2_10X_V2_AAACCTGGTCCGAACC</td><td>1451</td><td>3826</td><td>0.03711448</td><td>0</td><td>CD4+ T cell     </td><td>pbmc2</td><td>10x</td><td>CD4+ T cell     </td><td>Cytotoxic T cell   </td><td>CD4+ T cell     </td><td>CD4+ T cell        </td><td>Cytotoxic T cell</td></tr>\n",
       "\t<tr><th scope=row>6</th><td>pbmc2_10X_V2_AAACCTGTCGTCCGTT</td><td> 931</td><td>2345</td><td>0.06524520</td><td>0</td><td>CD4+ T cell     </td><td>pbmc2</td><td>10x</td><td>Cytotoxic T cell</td><td>CD4+ T cell        </td><td>CD4+ T cell     </td><td>CD4+ T cell        </td><td>Cytotoxic T cell</td></tr>\n",
       "</tbody>\n",
       "</table>\n"
      ],
      "text/latex": [
       "A data.frame: 6 × 13\n",
       "\\begin{tabular}{r|lllllllllllll}\n",
       "  & id & nGene & nUMI & percent.mito & Cluster & class\\_ & Experiment & Method & PBMC10x\\_CellID\\_3090\\_0 & PBMC10x\\_Seurat\\_3090\\_0 & PBMC10x\\_SingleCellNet\\_3090\\_0 & PBMC10x\\_SingleR\\_3090\\_0 & PBMC10x\\_ItClust\\_3090\\_0\\\\\n",
       "  & <chr> & <int> & <int> & <dbl> & <int> & <chr> & <chr> & <chr> & <chr> & <chr> & <chr> & <chr> & <chr>\\\\\n",
       "\\hline\n",
       "\t1 & pbmc2\\_10X\\_V2\\_AAACCTGAGATGGGTC & 1044 & 2360 & 0.04194915 & 2 & B cell           & pbmc2 & 10x & B cell           & B cell              & B cell           & B cell              & B cell          \\\\\n",
       "\t2 & pbmc2\\_10X\\_V2\\_AAACCTGAGCGTAATA &  803 & 1888 & 0.04131356 & 2 & B cell           & pbmc2 & 10x & B cell           & B cell              & B cell           & B cell              & B cell          \\\\\n",
       "\t3 & pbmc2\\_10X\\_V2\\_AAACCTGAGCTAGGCA & 1372 & 3456 & 0.03530093 & 1 & Cytotoxic T cell & pbmc2 & 10x & CD4+ T cell      & Natural killer cell & Cytotoxic T cell & Natural killer cell & Cytotoxic T cell\\\\\n",
       "\t4 & pbmc2\\_10X\\_V2\\_AAACCTGAGGGTCTCC & 1519 & 3802 & 0.04208311 & 6 & Dendritic cell   & pbmc2 & 10x & CD14+ monocyte   & CD14+ monocyte      & CD14+ monocyte   & Dendritic cell      & CD14+ monocyte  \\\\\n",
       "\t5 & pbmc2\\_10X\\_V2\\_AAACCTGGTCCGAACC & 1451 & 3826 & 0.03711448 & 0 & CD4+ T cell      & pbmc2 & 10x & CD4+ T cell      & Cytotoxic T cell    & CD4+ T cell      & CD4+ T cell         & Cytotoxic T cell\\\\\n",
       "\t6 & pbmc2\\_10X\\_V2\\_AAACCTGTCGTCCGTT &  931 & 2345 & 0.06524520 & 0 & CD4+ T cell      & pbmc2 & 10x & Cytotoxic T cell & CD4+ T cell         & CD4+ T cell      & CD4+ T cell         & Cytotoxic T cell\\\\\n",
       "\\end{tabular}\n"
      ],
      "text/markdown": [
       "\n",
       "A data.frame: 6 × 13\n",
       "\n",
       "| <!--/--> | id &lt;chr&gt; | nGene &lt;int&gt; | nUMI &lt;int&gt; | percent.mito &lt;dbl&gt; | Cluster &lt;int&gt; | class_ &lt;chr&gt; | Experiment &lt;chr&gt; | Method &lt;chr&gt; | PBMC10x_CellID_3090_0 &lt;chr&gt; | PBMC10x_Seurat_3090_0 &lt;chr&gt; | PBMC10x_SingleCellNet_3090_0 &lt;chr&gt; | PBMC10x_SingleR_3090_0 &lt;chr&gt; | PBMC10x_ItClust_3090_0 &lt;chr&gt; |\n",
       "|---|---|---|---|---|---|---|---|---|---|---|---|---|---|\n",
       "| 1 | pbmc2_10X_V2_AAACCTGAGATGGGTC | 1044 | 2360 | 0.04194915 | 2 | B cell           | pbmc2 | 10x | B cell           | B cell              | B cell           | B cell              | B cell           |\n",
       "| 2 | pbmc2_10X_V2_AAACCTGAGCGTAATA |  803 | 1888 | 0.04131356 | 2 | B cell           | pbmc2 | 10x | B cell           | B cell              | B cell           | B cell              | B cell           |\n",
       "| 3 | pbmc2_10X_V2_AAACCTGAGCTAGGCA | 1372 | 3456 | 0.03530093 | 1 | Cytotoxic T cell | pbmc2 | 10x | CD4+ T cell      | Natural killer cell | Cytotoxic T cell | Natural killer cell | Cytotoxic T cell |\n",
       "| 4 | pbmc2_10X_V2_AAACCTGAGGGTCTCC | 1519 | 3802 | 0.04208311 | 6 | Dendritic cell   | pbmc2 | 10x | CD14+ monocyte   | CD14+ monocyte      | CD14+ monocyte   | Dendritic cell      | CD14+ monocyte   |\n",
       "| 5 | pbmc2_10X_V2_AAACCTGGTCCGAACC | 1451 | 3826 | 0.03711448 | 0 | CD4+ T cell      | pbmc2 | 10x | CD4+ T cell      | Cytotoxic T cell    | CD4+ T cell      | CD4+ T cell         | Cytotoxic T cell |\n",
       "| 6 | pbmc2_10X_V2_AAACCTGTCGTCCGTT |  931 | 2345 | 0.06524520 | 0 | CD4+ T cell      | pbmc2 | 10x | Cytotoxic T cell | CD4+ T cell         | CD4+ T cell      | CD4+ T cell         | Cytotoxic T cell |\n",
       "\n"
      ],
      "text/plain": [
       "  id                            nGene nUMI percent.mito Cluster\n",
       "1 pbmc2_10X_V2_AAACCTGAGATGGGTC 1044  2360 0.04194915   2      \n",
       "2 pbmc2_10X_V2_AAACCTGAGCGTAATA  803  1888 0.04131356   2      \n",
       "3 pbmc2_10X_V2_AAACCTGAGCTAGGCA 1372  3456 0.03530093   1      \n",
       "4 pbmc2_10X_V2_AAACCTGAGGGTCTCC 1519  3802 0.04208311   6      \n",
       "5 pbmc2_10X_V2_AAACCTGGTCCGAACC 1451  3826 0.03711448   0      \n",
       "6 pbmc2_10X_V2_AAACCTGTCGTCCGTT  931  2345 0.06524520   0      \n",
       "  class_           Experiment Method PBMC10x_CellID_3090_0\n",
       "1 B cell           pbmc2      10x    B cell               \n",
       "2 B cell           pbmc2      10x    B cell               \n",
       "3 Cytotoxic T cell pbmc2      10x    CD4+ T cell          \n",
       "4 Dendritic cell   pbmc2      10x    CD14+ monocyte       \n",
       "5 CD4+ T cell      pbmc2      10x    CD4+ T cell          \n",
       "6 CD4+ T cell      pbmc2      10x    Cytotoxic T cell     \n",
       "  PBMC10x_Seurat_3090_0 PBMC10x_SingleCellNet_3090_0 PBMC10x_SingleR_3090_0\n",
       "1 B cell                B cell                       B cell                \n",
       "2 B cell                B cell                       B cell                \n",
       "3 Natural killer cell   Cytotoxic T cell             Natural killer cell   \n",
       "4 CD14+ monocyte        CD14+ monocyte               Dendritic cell        \n",
       "5 Cytotoxic T cell      CD4+ T cell                  CD4+ T cell           \n",
       "6 CD4+ T cell           CD4+ T cell                  CD4+ T cell           \n",
       "  PBMC10x_ItClust_3090_0\n",
       "1 B cell                \n",
       "2 B cell                \n",
       "3 Cytotoxic T cell      \n",
       "4 CD14+ monocyte        \n",
       "5 Cytotoxic T cell      \n",
       "6 Cytotoxic T cell      "
      ]
     },
     "metadata": {},
     "output_type": "display_data"
    }
   ],
   "source": [
    "meta <- merge(data, results, by=\"id\", all.x=T)\n",
    "head(meta)"
   ]
  },
  {
   "cell_type": "code",
   "execution_count": 18,
   "id": "d49b376a-79bc-4f81-92cb-869adfaad78f",
   "metadata": {},
   "outputs": [
    {
     "data": {
      "text/html": [
       "<table class=\"dataframe\">\n",
       "<caption>A data.frame: 24 × 13</caption>\n",
       "<thead>\n",
       "\t<tr><th></th><th scope=col>id</th><th scope=col>nGene</th><th scope=col>nUMI</th><th scope=col>percent.mito</th><th scope=col>Cluster</th><th scope=col>class_</th><th scope=col>Experiment</th><th scope=col>Method</th><th scope=col>PBMC10x_CellID_3090_0</th><th scope=col>PBMC10x_Seurat_3090_0</th><th scope=col>PBMC10x_SingleCellNet_3090_0</th><th scope=col>PBMC10x_SingleR_3090_0</th><th scope=col>PBMC10x_ItClust_3090_0</th></tr>\n",
       "\t<tr><th></th><th scope=col>&lt;chr&gt;</th><th scope=col>&lt;int&gt;</th><th scope=col>&lt;int&gt;</th><th scope=col>&lt;dbl&gt;</th><th scope=col>&lt;int&gt;</th><th scope=col>&lt;chr&gt;</th><th scope=col>&lt;chr&gt;</th><th scope=col>&lt;chr&gt;</th><th scope=col>&lt;chr&gt;</th><th scope=col>&lt;chr&gt;</th><th scope=col>&lt;chr&gt;</th><th scope=col>&lt;chr&gt;</th><th scope=col>&lt;chr&gt;</th></tr>\n",
       "</thead>\n",
       "<tbody>\n",
       "\t<tr><th scope=row>433</th><td>pbmc2_10X_V2_AGAGTGGAGGACACCA             </td><td>51</td><td> 65</td><td>0.06153846</td><td>8</td><td>Megakaryocyte</td><td>pbmc2</td><td>10x    </td><td>Megakaryocyte</td><td>Megakaryocyte </td><td>Megakaryocyte </td><td>Megakaryocyte </td><td>NA</td></tr>\n",
       "\t<tr><th scope=row>804</th><td>pbmc2_10X_V2_CACACCTAGAGCTTCT             </td><td>98</td><td>160</td><td>0.08750000</td><td>8</td><td>Megakaryocyte</td><td>pbmc2</td><td>10x    </td><td>Megakaryocyte</td><td>Megakaryocyte </td><td>Megakaryocyte </td><td>Megakaryocyte </td><td>NA</td></tr>\n",
       "\t<tr><th scope=row>840</th><td>pbmc2_10X_V2_CACATAGGTGAAATCA             </td><td>36</td><td> 57</td><td>0.03508772</td><td>8</td><td>Megakaryocyte</td><td>pbmc2</td><td>10x    </td><td>Megakaryocyte</td><td>Megakaryocyte </td><td>Megakaryocyte </td><td>Megakaryocyte </td><td>NA</td></tr>\n",
       "\t<tr><th scope=row>895</th><td>pbmc2_10X_V2_CAGATCATCCTAAGTG             </td><td>20</td><td> 22</td><td>0.09090909</td><td>0</td><td>CD4+ T cell  </td><td>pbmc2</td><td>10x    </td><td>Megakaryocyte</td><td>Megakaryocyte </td><td>Megakaryocyte </td><td>Megakaryocyte </td><td>NA</td></tr>\n",
       "\t<tr><th scope=row>968</th><td>pbmc2_10X_V2_CATCAAGAGCTGGAAC             </td><td>44</td><td> 59</td><td>0.08474576</td><td>0</td><td>CD4+ T cell  </td><td>pbmc2</td><td>10x    </td><td>Megakaryocyte</td><td>Megakaryocyte </td><td>Megakaryocyte </td><td>Megakaryocyte </td><td>NA</td></tr>\n",
       "\t<tr><th scope=row>1068</th><td>pbmc2_10X_V2_CCATGTCTCTAAGCCA             </td><td>64</td><td> 90</td><td>0.07777778</td><td>8</td><td>Megakaryocyte</td><td>pbmc2</td><td>10x    </td><td>Megakaryocyte</td><td>Megakaryocyte </td><td>Megakaryocyte </td><td>Megakaryocyte </td><td>NA</td></tr>\n",
       "\t<tr><th scope=row>1397</th><td>pbmc2_10X_V2_CGGAGTCGTTTAGCTG             </td><td>38</td><td> 50</td><td>0.02000000</td><td>8</td><td>Megakaryocyte</td><td>pbmc2</td><td>10x    </td><td>Megakaryocyte</td><td>Megakaryocyte </td><td>Megakaryocyte </td><td>Megakaryocyte </td><td>NA</td></tr>\n",
       "\t<tr><th scope=row>1410</th><td>pbmc2_10X_V2_CGGCTAGTCCAGAGGA             </td><td>37</td><td> 39</td><td>0.00000000</td><td>8</td><td>Megakaryocyte</td><td>pbmc2</td><td>10x    </td><td>Megakaryocyte</td><td>Megakaryocyte </td><td>Megakaryocyte </td><td>Megakaryocyte </td><td>NA</td></tr>\n",
       "\t<tr><th scope=row>1451</th><td>pbmc2_10X_V2_CGTCCATGTGGCGAAT             </td><td>41</td><td> 59</td><td>0.01694915</td><td>8</td><td>Megakaryocyte</td><td>pbmc2</td><td>10x    </td><td>Megakaryocyte</td><td>Megakaryocyte </td><td>Megakaryocyte </td><td>Megakaryocyte </td><td>NA</td></tr>\n",
       "\t<tr><th scope=row>1476</th><td>pbmc2_10X_V2_CGTGTCTGTACATGTC             </td><td>40</td><td> 62</td><td>0.04838710</td><td>8</td><td>Megakaryocyte</td><td>pbmc2</td><td>10x    </td><td>Megakaryocyte</td><td>Megakaryocyte </td><td>Megakaryocyte </td><td>Megakaryocyte </td><td>NA</td></tr>\n",
       "\t<tr><th scope=row>2090</th><td>pbmc2_10X_V2_GCGACCAGTATGAATG             </td><td>63</td><td> 76</td><td>0.03947368</td><td>8</td><td>Megakaryocyte</td><td>pbmc2</td><td>10x    </td><td>Megakaryocyte</td><td>Megakaryocyte </td><td>Megakaryocyte </td><td>Megakaryocyte </td><td>NA</td></tr>\n",
       "\t<tr><th scope=row>2163</th><td>pbmc2_10X_V2_GCTGCGATCTCGTATT             </td><td>83</td><td>131</td><td>0.01526718</td><td>8</td><td>Megakaryocyte</td><td>pbmc2</td><td>10x    </td><td>Megakaryocyte</td><td>Megakaryocyte </td><td>Megakaryocyte </td><td>Megakaryocyte </td><td>NA</td></tr>\n",
       "\t<tr><th scope=row>2235</th><td>pbmc2_10X_V2_GGACATTGTGCTGTAT             </td><td>15</td><td> 17</td><td>0.05882353</td><td>0</td><td>CD4+ T cell  </td><td>pbmc2</td><td>10x    </td><td>Megakaryocyte</td><td>Megakaryocyte </td><td>Megakaryocyte </td><td>Megakaryocyte </td><td>NA</td></tr>\n",
       "\t<tr><th scope=row>2423</th><td>pbmc2_10X_V2_GTACTTTGTCTGATCA             </td><td>89</td><td>109</td><td>0.03669725</td><td>8</td><td>Megakaryocyte</td><td>pbmc2</td><td>10x    </td><td>Megakaryocyte</td><td>Megakaryocyte </td><td>Megakaryocyte </td><td>Megakaryocyte </td><td>NA</td></tr>\n",
       "\t<tr><th scope=row>2538</th><td>pbmc2_10X_V2_GTGGGTCGTCTAGGTT             </td><td>57</td><td>100</td><td>0.15000000</td><td>8</td><td>Megakaryocyte</td><td>pbmc2</td><td>10x    </td><td>Megakaryocyte</td><td>Megakaryocyte </td><td>Megakaryocyte </td><td>Megakaryocyte </td><td>NA</td></tr>\n",
       "\t<tr><th scope=row>2785</th><td>pbmc2_10X_V2_TCAATCTAGGCAGTCA             </td><td>36</td><td> 52</td><td>0.13461538</td><td>8</td><td>Megakaryocyte</td><td>pbmc2</td><td>10x    </td><td>Megakaryocyte</td><td>Megakaryocyte </td><td>Megakaryocyte </td><td>Megakaryocyte </td><td>NA</td></tr>\n",
       "\t<tr><th scope=row>2879</th><td>pbmc2_10X_V2_TCGGTAATCAGGCAAG             </td><td>67</td><td> 89</td><td>0.05617978</td><td>8</td><td>Megakaryocyte</td><td>pbmc2</td><td>10x    </td><td>Megakaryocyte</td><td>Megakaryocyte </td><td>Megakaryocyte </td><td>Megakaryocyte </td><td>NA</td></tr>\n",
       "\t<tr><th scope=row>3066</th><td>pbmc2_10X_V2_TGCGTGGCACTATCTT             </td><td>17</td><td> 27</td><td>0.11111111</td><td>0</td><td>CD4+ T cell  </td><td>pbmc2</td><td>10x    </td><td>Megakaryocyte</td><td>Megakaryocyte </td><td>Megakaryocyte </td><td>Megakaryocyte </td><td>NA</td></tr>\n",
       "\t<tr><th scope=row>3096</th><td>pbmc2_10X_V2_TGGCCAGGTTAAGATG             </td><td>17</td><td> 33</td><td>0.15151515</td><td>0</td><td>CD4+ T cell  </td><td>pbmc2</td><td>10x    </td><td>Megakaryocyte</td><td>Megakaryocyte </td><td>Megakaryocyte </td><td>Megakaryocyte </td><td>NA</td></tr>\n",
       "\t<tr><th scope=row>3339</th><td>pbmc2_10X_V2_TTTGCGCCAAAGAATC             </td><td>15</td><td> 20</td><td>0.00000000</td><td>0</td><td>CD4+ T cell  </td><td>pbmc2</td><td>10x    </td><td>Megakaryocyte</td><td>Megakaryocyte </td><td>Megakaryocyte </td><td>Megakaryocyte </td><td>NA</td></tr>\n",
       "\t<tr><th scope=row>3345</th><td>pbmc2_10X_V2_TTTGCGCTCTTGGGTA             </td><td>89</td><td>134</td><td>0.03731343</td><td>8</td><td>Megakaryocyte</td><td>pbmc2</td><td>10x    </td><td>Megakaryocyte</td><td>Megakaryocyte </td><td>Megakaryocyte </td><td>Megakaryocyte </td><td>NA</td></tr>\n",
       "\t<tr><th scope=row>3360</th><td>pbmc2_10X_V2_TTTGTCAGTACGCACC             </td><td>19</td><td> 20</td><td>0.00000000</td><td>0</td><td>CD4+ T cell  </td><td>pbmc2</td><td>10x    </td><td>Megakaryocyte</td><td>Megakaryocyte </td><td>Megakaryocyte </td><td>Megakaryocyte </td><td>NA</td></tr>\n",
       "\t<tr><th scope=row>8803</th><td>pbmc2_inDrops_1_CTGCTAGA.GAGCCTTA.AAAGTCGG</td><td>84</td><td> 94</td><td>0.12765957</td><td>1</td><td>CD4+ T cell  </td><td>pbmc2</td><td>inDrops</td><td>Megakaryocyte</td><td>CD14+ monocyte</td><td>CD14+ monocyte</td><td>Dendritic cell</td><td>NA</td></tr>\n",
       "\t<tr><th scope=row>9424</th><td>pbmc2_inDrops_1_GGATTGTT.GAGCCTTA.ATCTTTGT</td><td>89</td><td>109</td><td>0.22935780</td><td>1</td><td>CD4+ T cell  </td><td>pbmc2</td><td>inDrops</td><td>Megakaryocyte</td><td>CD14+ monocyte</td><td>CD14+ monocyte</td><td>Dendritic cell</td><td>NA</td></tr>\n",
       "</tbody>\n",
       "</table>\n"
      ],
      "text/latex": [
       "A data.frame: 24 × 13\n",
       "\\begin{tabular}{r|lllllllllllll}\n",
       "  & id & nGene & nUMI & percent.mito & Cluster & class\\_ & Experiment & Method & PBMC10x\\_CellID\\_3090\\_0 & PBMC10x\\_Seurat\\_3090\\_0 & PBMC10x\\_SingleCellNet\\_3090\\_0 & PBMC10x\\_SingleR\\_3090\\_0 & PBMC10x\\_ItClust\\_3090\\_0\\\\\n",
       "  & <chr> & <int> & <int> & <dbl> & <int> & <chr> & <chr> & <chr> & <chr> & <chr> & <chr> & <chr> & <chr>\\\\\n",
       "\\hline\n",
       "\t433 & pbmc2\\_10X\\_V2\\_AGAGTGGAGGACACCA              & 51 &  65 & 0.06153846 & 8 & Megakaryocyte & pbmc2 & 10x     & Megakaryocyte & Megakaryocyte  & Megakaryocyte  & Megakaryocyte  & NA\\\\\n",
       "\t804 & pbmc2\\_10X\\_V2\\_CACACCTAGAGCTTCT              & 98 & 160 & 0.08750000 & 8 & Megakaryocyte & pbmc2 & 10x     & Megakaryocyte & Megakaryocyte  & Megakaryocyte  & Megakaryocyte  & NA\\\\\n",
       "\t840 & pbmc2\\_10X\\_V2\\_CACATAGGTGAAATCA              & 36 &  57 & 0.03508772 & 8 & Megakaryocyte & pbmc2 & 10x     & Megakaryocyte & Megakaryocyte  & Megakaryocyte  & Megakaryocyte  & NA\\\\\n",
       "\t895 & pbmc2\\_10X\\_V2\\_CAGATCATCCTAAGTG              & 20 &  22 & 0.09090909 & 0 & CD4+ T cell   & pbmc2 & 10x     & Megakaryocyte & Megakaryocyte  & Megakaryocyte  & Megakaryocyte  & NA\\\\\n",
       "\t968 & pbmc2\\_10X\\_V2\\_CATCAAGAGCTGGAAC              & 44 &  59 & 0.08474576 & 0 & CD4+ T cell   & pbmc2 & 10x     & Megakaryocyte & Megakaryocyte  & Megakaryocyte  & Megakaryocyte  & NA\\\\\n",
       "\t1068 & pbmc2\\_10X\\_V2\\_CCATGTCTCTAAGCCA              & 64 &  90 & 0.07777778 & 8 & Megakaryocyte & pbmc2 & 10x     & Megakaryocyte & Megakaryocyte  & Megakaryocyte  & Megakaryocyte  & NA\\\\\n",
       "\t1397 & pbmc2\\_10X\\_V2\\_CGGAGTCGTTTAGCTG              & 38 &  50 & 0.02000000 & 8 & Megakaryocyte & pbmc2 & 10x     & Megakaryocyte & Megakaryocyte  & Megakaryocyte  & Megakaryocyte  & NA\\\\\n",
       "\t1410 & pbmc2\\_10X\\_V2\\_CGGCTAGTCCAGAGGA              & 37 &  39 & 0.00000000 & 8 & Megakaryocyte & pbmc2 & 10x     & Megakaryocyte & Megakaryocyte  & Megakaryocyte  & Megakaryocyte  & NA\\\\\n",
       "\t1451 & pbmc2\\_10X\\_V2\\_CGTCCATGTGGCGAAT              & 41 &  59 & 0.01694915 & 8 & Megakaryocyte & pbmc2 & 10x     & Megakaryocyte & Megakaryocyte  & Megakaryocyte  & Megakaryocyte  & NA\\\\\n",
       "\t1476 & pbmc2\\_10X\\_V2\\_CGTGTCTGTACATGTC              & 40 &  62 & 0.04838710 & 8 & Megakaryocyte & pbmc2 & 10x     & Megakaryocyte & Megakaryocyte  & Megakaryocyte  & Megakaryocyte  & NA\\\\\n",
       "\t2090 & pbmc2\\_10X\\_V2\\_GCGACCAGTATGAATG              & 63 &  76 & 0.03947368 & 8 & Megakaryocyte & pbmc2 & 10x     & Megakaryocyte & Megakaryocyte  & Megakaryocyte  & Megakaryocyte  & NA\\\\\n",
       "\t2163 & pbmc2\\_10X\\_V2\\_GCTGCGATCTCGTATT              & 83 & 131 & 0.01526718 & 8 & Megakaryocyte & pbmc2 & 10x     & Megakaryocyte & Megakaryocyte  & Megakaryocyte  & Megakaryocyte  & NA\\\\\n",
       "\t2235 & pbmc2\\_10X\\_V2\\_GGACATTGTGCTGTAT              & 15 &  17 & 0.05882353 & 0 & CD4+ T cell   & pbmc2 & 10x     & Megakaryocyte & Megakaryocyte  & Megakaryocyte  & Megakaryocyte  & NA\\\\\n",
       "\t2423 & pbmc2\\_10X\\_V2\\_GTACTTTGTCTGATCA              & 89 & 109 & 0.03669725 & 8 & Megakaryocyte & pbmc2 & 10x     & Megakaryocyte & Megakaryocyte  & Megakaryocyte  & Megakaryocyte  & NA\\\\\n",
       "\t2538 & pbmc2\\_10X\\_V2\\_GTGGGTCGTCTAGGTT              & 57 & 100 & 0.15000000 & 8 & Megakaryocyte & pbmc2 & 10x     & Megakaryocyte & Megakaryocyte  & Megakaryocyte  & Megakaryocyte  & NA\\\\\n",
       "\t2785 & pbmc2\\_10X\\_V2\\_TCAATCTAGGCAGTCA              & 36 &  52 & 0.13461538 & 8 & Megakaryocyte & pbmc2 & 10x     & Megakaryocyte & Megakaryocyte  & Megakaryocyte  & Megakaryocyte  & NA\\\\\n",
       "\t2879 & pbmc2\\_10X\\_V2\\_TCGGTAATCAGGCAAG              & 67 &  89 & 0.05617978 & 8 & Megakaryocyte & pbmc2 & 10x     & Megakaryocyte & Megakaryocyte  & Megakaryocyte  & Megakaryocyte  & NA\\\\\n",
       "\t3066 & pbmc2\\_10X\\_V2\\_TGCGTGGCACTATCTT              & 17 &  27 & 0.11111111 & 0 & CD4+ T cell   & pbmc2 & 10x     & Megakaryocyte & Megakaryocyte  & Megakaryocyte  & Megakaryocyte  & NA\\\\\n",
       "\t3096 & pbmc2\\_10X\\_V2\\_TGGCCAGGTTAAGATG              & 17 &  33 & 0.15151515 & 0 & CD4+ T cell   & pbmc2 & 10x     & Megakaryocyte & Megakaryocyte  & Megakaryocyte  & Megakaryocyte  & NA\\\\\n",
       "\t3339 & pbmc2\\_10X\\_V2\\_TTTGCGCCAAAGAATC              & 15 &  20 & 0.00000000 & 0 & CD4+ T cell   & pbmc2 & 10x     & Megakaryocyte & Megakaryocyte  & Megakaryocyte  & Megakaryocyte  & NA\\\\\n",
       "\t3345 & pbmc2\\_10X\\_V2\\_TTTGCGCTCTTGGGTA              & 89 & 134 & 0.03731343 & 8 & Megakaryocyte & pbmc2 & 10x     & Megakaryocyte & Megakaryocyte  & Megakaryocyte  & Megakaryocyte  & NA\\\\\n",
       "\t3360 & pbmc2\\_10X\\_V2\\_TTTGTCAGTACGCACC              & 19 &  20 & 0.00000000 & 0 & CD4+ T cell   & pbmc2 & 10x     & Megakaryocyte & Megakaryocyte  & Megakaryocyte  & Megakaryocyte  & NA\\\\\n",
       "\t8803 & pbmc2\\_inDrops\\_1\\_CTGCTAGA.GAGCCTTA.AAAGTCGG & 84 &  94 & 0.12765957 & 1 & CD4+ T cell   & pbmc2 & inDrops & Megakaryocyte & CD14+ monocyte & CD14+ monocyte & Dendritic cell & NA\\\\\n",
       "\t9424 & pbmc2\\_inDrops\\_1\\_GGATTGTT.GAGCCTTA.ATCTTTGT & 89 & 109 & 0.22935780 & 1 & CD4+ T cell   & pbmc2 & inDrops & Megakaryocyte & CD14+ monocyte & CD14+ monocyte & Dendritic cell & NA\\\\\n",
       "\\end{tabular}\n"
      ],
      "text/markdown": [
       "\n",
       "A data.frame: 24 × 13\n",
       "\n",
       "| <!--/--> | id &lt;chr&gt; | nGene &lt;int&gt; | nUMI &lt;int&gt; | percent.mito &lt;dbl&gt; | Cluster &lt;int&gt; | class_ &lt;chr&gt; | Experiment &lt;chr&gt; | Method &lt;chr&gt; | PBMC10x_CellID_3090_0 &lt;chr&gt; | PBMC10x_Seurat_3090_0 &lt;chr&gt; | PBMC10x_SingleCellNet_3090_0 &lt;chr&gt; | PBMC10x_SingleR_3090_0 &lt;chr&gt; | PBMC10x_ItClust_3090_0 &lt;chr&gt; |\n",
       "|---|---|---|---|---|---|---|---|---|---|---|---|---|---|\n",
       "| 433 | pbmc2_10X_V2_AGAGTGGAGGACACCA              | 51 |  65 | 0.06153846 | 8 | Megakaryocyte | pbmc2 | 10x     | Megakaryocyte | Megakaryocyte  | Megakaryocyte  | Megakaryocyte  | NA |\n",
       "| 804 | pbmc2_10X_V2_CACACCTAGAGCTTCT              | 98 | 160 | 0.08750000 | 8 | Megakaryocyte | pbmc2 | 10x     | Megakaryocyte | Megakaryocyte  | Megakaryocyte  | Megakaryocyte  | NA |\n",
       "| 840 | pbmc2_10X_V2_CACATAGGTGAAATCA              | 36 |  57 | 0.03508772 | 8 | Megakaryocyte | pbmc2 | 10x     | Megakaryocyte | Megakaryocyte  | Megakaryocyte  | Megakaryocyte  | NA |\n",
       "| 895 | pbmc2_10X_V2_CAGATCATCCTAAGTG              | 20 |  22 | 0.09090909 | 0 | CD4+ T cell   | pbmc2 | 10x     | Megakaryocyte | Megakaryocyte  | Megakaryocyte  | Megakaryocyte  | NA |\n",
       "| 968 | pbmc2_10X_V2_CATCAAGAGCTGGAAC              | 44 |  59 | 0.08474576 | 0 | CD4+ T cell   | pbmc2 | 10x     | Megakaryocyte | Megakaryocyte  | Megakaryocyte  | Megakaryocyte  | NA |\n",
       "| 1068 | pbmc2_10X_V2_CCATGTCTCTAAGCCA              | 64 |  90 | 0.07777778 | 8 | Megakaryocyte | pbmc2 | 10x     | Megakaryocyte | Megakaryocyte  | Megakaryocyte  | Megakaryocyte  | NA |\n",
       "| 1397 | pbmc2_10X_V2_CGGAGTCGTTTAGCTG              | 38 |  50 | 0.02000000 | 8 | Megakaryocyte | pbmc2 | 10x     | Megakaryocyte | Megakaryocyte  | Megakaryocyte  | Megakaryocyte  | NA |\n",
       "| 1410 | pbmc2_10X_V2_CGGCTAGTCCAGAGGA              | 37 |  39 | 0.00000000 | 8 | Megakaryocyte | pbmc2 | 10x     | Megakaryocyte | Megakaryocyte  | Megakaryocyte  | Megakaryocyte  | NA |\n",
       "| 1451 | pbmc2_10X_V2_CGTCCATGTGGCGAAT              | 41 |  59 | 0.01694915 | 8 | Megakaryocyte | pbmc2 | 10x     | Megakaryocyte | Megakaryocyte  | Megakaryocyte  | Megakaryocyte  | NA |\n",
       "| 1476 | pbmc2_10X_V2_CGTGTCTGTACATGTC              | 40 |  62 | 0.04838710 | 8 | Megakaryocyte | pbmc2 | 10x     | Megakaryocyte | Megakaryocyte  | Megakaryocyte  | Megakaryocyte  | NA |\n",
       "| 2090 | pbmc2_10X_V2_GCGACCAGTATGAATG              | 63 |  76 | 0.03947368 | 8 | Megakaryocyte | pbmc2 | 10x     | Megakaryocyte | Megakaryocyte  | Megakaryocyte  | Megakaryocyte  | NA |\n",
       "| 2163 | pbmc2_10X_V2_GCTGCGATCTCGTATT              | 83 | 131 | 0.01526718 | 8 | Megakaryocyte | pbmc2 | 10x     | Megakaryocyte | Megakaryocyte  | Megakaryocyte  | Megakaryocyte  | NA |\n",
       "| 2235 | pbmc2_10X_V2_GGACATTGTGCTGTAT              | 15 |  17 | 0.05882353 | 0 | CD4+ T cell   | pbmc2 | 10x     | Megakaryocyte | Megakaryocyte  | Megakaryocyte  | Megakaryocyte  | NA |\n",
       "| 2423 | pbmc2_10X_V2_GTACTTTGTCTGATCA              | 89 | 109 | 0.03669725 | 8 | Megakaryocyte | pbmc2 | 10x     | Megakaryocyte | Megakaryocyte  | Megakaryocyte  | Megakaryocyte  | NA |\n",
       "| 2538 | pbmc2_10X_V2_GTGGGTCGTCTAGGTT              | 57 | 100 | 0.15000000 | 8 | Megakaryocyte | pbmc2 | 10x     | Megakaryocyte | Megakaryocyte  | Megakaryocyte  | Megakaryocyte  | NA |\n",
       "| 2785 | pbmc2_10X_V2_TCAATCTAGGCAGTCA              | 36 |  52 | 0.13461538 | 8 | Megakaryocyte | pbmc2 | 10x     | Megakaryocyte | Megakaryocyte  | Megakaryocyte  | Megakaryocyte  | NA |\n",
       "| 2879 | pbmc2_10X_V2_TCGGTAATCAGGCAAG              | 67 |  89 | 0.05617978 | 8 | Megakaryocyte | pbmc2 | 10x     | Megakaryocyte | Megakaryocyte  | Megakaryocyte  | Megakaryocyte  | NA |\n",
       "| 3066 | pbmc2_10X_V2_TGCGTGGCACTATCTT              | 17 |  27 | 0.11111111 | 0 | CD4+ T cell   | pbmc2 | 10x     | Megakaryocyte | Megakaryocyte  | Megakaryocyte  | Megakaryocyte  | NA |\n",
       "| 3096 | pbmc2_10X_V2_TGGCCAGGTTAAGATG              | 17 |  33 | 0.15151515 | 0 | CD4+ T cell   | pbmc2 | 10x     | Megakaryocyte | Megakaryocyte  | Megakaryocyte  | Megakaryocyte  | NA |\n",
       "| 3339 | pbmc2_10X_V2_TTTGCGCCAAAGAATC              | 15 |  20 | 0.00000000 | 0 | CD4+ T cell   | pbmc2 | 10x     | Megakaryocyte | Megakaryocyte  | Megakaryocyte  | Megakaryocyte  | NA |\n",
       "| 3345 | pbmc2_10X_V2_TTTGCGCTCTTGGGTA              | 89 | 134 | 0.03731343 | 8 | Megakaryocyte | pbmc2 | 10x     | Megakaryocyte | Megakaryocyte  | Megakaryocyte  | Megakaryocyte  | NA |\n",
       "| 3360 | pbmc2_10X_V2_TTTGTCAGTACGCACC              | 19 |  20 | 0.00000000 | 0 | CD4+ T cell   | pbmc2 | 10x     | Megakaryocyte | Megakaryocyte  | Megakaryocyte  | Megakaryocyte  | NA |\n",
       "| 8803 | pbmc2_inDrops_1_CTGCTAGA.GAGCCTTA.AAAGTCGG | 84 |  94 | 0.12765957 | 1 | CD4+ T cell   | pbmc2 | inDrops | Megakaryocyte | CD14+ monocyte | CD14+ monocyte | Dendritic cell | NA |\n",
       "| 9424 | pbmc2_inDrops_1_GGATTGTT.GAGCCTTA.ATCTTTGT | 89 | 109 | 0.22935780 | 1 | CD4+ T cell   | pbmc2 | inDrops | Megakaryocyte | CD14+ monocyte | CD14+ monocyte | Dendritic cell | NA |\n",
       "\n"
      ],
      "text/plain": [
       "     id                                         nGene nUMI percent.mito Cluster\n",
       "433  pbmc2_10X_V2_AGAGTGGAGGACACCA              51     65  0.06153846   8      \n",
       "804  pbmc2_10X_V2_CACACCTAGAGCTTCT              98    160  0.08750000   8      \n",
       "840  pbmc2_10X_V2_CACATAGGTGAAATCA              36     57  0.03508772   8      \n",
       "895  pbmc2_10X_V2_CAGATCATCCTAAGTG              20     22  0.09090909   0      \n",
       "968  pbmc2_10X_V2_CATCAAGAGCTGGAAC              44     59  0.08474576   0      \n",
       "1068 pbmc2_10X_V2_CCATGTCTCTAAGCCA              64     90  0.07777778   8      \n",
       "1397 pbmc2_10X_V2_CGGAGTCGTTTAGCTG              38     50  0.02000000   8      \n",
       "1410 pbmc2_10X_V2_CGGCTAGTCCAGAGGA              37     39  0.00000000   8      \n",
       "1451 pbmc2_10X_V2_CGTCCATGTGGCGAAT              41     59  0.01694915   8      \n",
       "1476 pbmc2_10X_V2_CGTGTCTGTACATGTC              40     62  0.04838710   8      \n",
       "2090 pbmc2_10X_V2_GCGACCAGTATGAATG              63     76  0.03947368   8      \n",
       "2163 pbmc2_10X_V2_GCTGCGATCTCGTATT              83    131  0.01526718   8      \n",
       "2235 pbmc2_10X_V2_GGACATTGTGCTGTAT              15     17  0.05882353   0      \n",
       "2423 pbmc2_10X_V2_GTACTTTGTCTGATCA              89    109  0.03669725   8      \n",
       "2538 pbmc2_10X_V2_GTGGGTCGTCTAGGTT              57    100  0.15000000   8      \n",
       "2785 pbmc2_10X_V2_TCAATCTAGGCAGTCA              36     52  0.13461538   8      \n",
       "2879 pbmc2_10X_V2_TCGGTAATCAGGCAAG              67     89  0.05617978   8      \n",
       "3066 pbmc2_10X_V2_TGCGTGGCACTATCTT              17     27  0.11111111   0      \n",
       "3096 pbmc2_10X_V2_TGGCCAGGTTAAGATG              17     33  0.15151515   0      \n",
       "3339 pbmc2_10X_V2_TTTGCGCCAAAGAATC              15     20  0.00000000   0      \n",
       "3345 pbmc2_10X_V2_TTTGCGCTCTTGGGTA              89    134  0.03731343   8      \n",
       "3360 pbmc2_10X_V2_TTTGTCAGTACGCACC              19     20  0.00000000   0      \n",
       "8803 pbmc2_inDrops_1_CTGCTAGA.GAGCCTTA.AAAGTCGG 84     94  0.12765957   1      \n",
       "9424 pbmc2_inDrops_1_GGATTGTT.GAGCCTTA.ATCTTTGT 89    109  0.22935780   1      \n",
       "     class_        Experiment Method  PBMC10x_CellID_3090_0\n",
       "433  Megakaryocyte pbmc2      10x     Megakaryocyte        \n",
       "804  Megakaryocyte pbmc2      10x     Megakaryocyte        \n",
       "840  Megakaryocyte pbmc2      10x     Megakaryocyte        \n",
       "895  CD4+ T cell   pbmc2      10x     Megakaryocyte        \n",
       "968  CD4+ T cell   pbmc2      10x     Megakaryocyte        \n",
       "1068 Megakaryocyte pbmc2      10x     Megakaryocyte        \n",
       "1397 Megakaryocyte pbmc2      10x     Megakaryocyte        \n",
       "1410 Megakaryocyte pbmc2      10x     Megakaryocyte        \n",
       "1451 Megakaryocyte pbmc2      10x     Megakaryocyte        \n",
       "1476 Megakaryocyte pbmc2      10x     Megakaryocyte        \n",
       "2090 Megakaryocyte pbmc2      10x     Megakaryocyte        \n",
       "2163 Megakaryocyte pbmc2      10x     Megakaryocyte        \n",
       "2235 CD4+ T cell   pbmc2      10x     Megakaryocyte        \n",
       "2423 Megakaryocyte pbmc2      10x     Megakaryocyte        \n",
       "2538 Megakaryocyte pbmc2      10x     Megakaryocyte        \n",
       "2785 Megakaryocyte pbmc2      10x     Megakaryocyte        \n",
       "2879 Megakaryocyte pbmc2      10x     Megakaryocyte        \n",
       "3066 CD4+ T cell   pbmc2      10x     Megakaryocyte        \n",
       "3096 CD4+ T cell   pbmc2      10x     Megakaryocyte        \n",
       "3339 CD4+ T cell   pbmc2      10x     Megakaryocyte        \n",
       "3345 Megakaryocyte pbmc2      10x     Megakaryocyte        \n",
       "3360 CD4+ T cell   pbmc2      10x     Megakaryocyte        \n",
       "8803 CD4+ T cell   pbmc2      inDrops Megakaryocyte        \n",
       "9424 CD4+ T cell   pbmc2      inDrops Megakaryocyte        \n",
       "     PBMC10x_Seurat_3090_0 PBMC10x_SingleCellNet_3090_0 PBMC10x_SingleR_3090_0\n",
       "433  Megakaryocyte         Megakaryocyte                Megakaryocyte         \n",
       "804  Megakaryocyte         Megakaryocyte                Megakaryocyte         \n",
       "840  Megakaryocyte         Megakaryocyte                Megakaryocyte         \n",
       "895  Megakaryocyte         Megakaryocyte                Megakaryocyte         \n",
       "968  Megakaryocyte         Megakaryocyte                Megakaryocyte         \n",
       "1068 Megakaryocyte         Megakaryocyte                Megakaryocyte         \n",
       "1397 Megakaryocyte         Megakaryocyte                Megakaryocyte         \n",
       "1410 Megakaryocyte         Megakaryocyte                Megakaryocyte         \n",
       "1451 Megakaryocyte         Megakaryocyte                Megakaryocyte         \n",
       "1476 Megakaryocyte         Megakaryocyte                Megakaryocyte         \n",
       "2090 Megakaryocyte         Megakaryocyte                Megakaryocyte         \n",
       "2163 Megakaryocyte         Megakaryocyte                Megakaryocyte         \n",
       "2235 Megakaryocyte         Megakaryocyte                Megakaryocyte         \n",
       "2423 Megakaryocyte         Megakaryocyte                Megakaryocyte         \n",
       "2538 Megakaryocyte         Megakaryocyte                Megakaryocyte         \n",
       "2785 Megakaryocyte         Megakaryocyte                Megakaryocyte         \n",
       "2879 Megakaryocyte         Megakaryocyte                Megakaryocyte         \n",
       "3066 Megakaryocyte         Megakaryocyte                Megakaryocyte         \n",
       "3096 Megakaryocyte         Megakaryocyte                Megakaryocyte         \n",
       "3339 Megakaryocyte         Megakaryocyte                Megakaryocyte         \n",
       "3345 Megakaryocyte         Megakaryocyte                Megakaryocyte         \n",
       "3360 Megakaryocyte         Megakaryocyte                Megakaryocyte         \n",
       "8803 CD14+ monocyte        CD14+ monocyte               Dendritic cell        \n",
       "9424 CD14+ monocyte        CD14+ monocyte               Dendritic cell        \n",
       "     PBMC10x_ItClust_3090_0\n",
       "433  NA                    \n",
       "804  NA                    \n",
       "840  NA                    \n",
       "895  NA                    \n",
       "968  NA                    \n",
       "1068 NA                    \n",
       "1397 NA                    \n",
       "1410 NA                    \n",
       "1451 NA                    \n",
       "1476 NA                    \n",
       "2090 NA                    \n",
       "2163 NA                    \n",
       "2235 NA                    \n",
       "2423 NA                    \n",
       "2538 NA                    \n",
       "2785 NA                    \n",
       "2879 NA                    \n",
       "3066 NA                    \n",
       "3096 NA                    \n",
       "3339 NA                    \n",
       "3345 NA                    \n",
       "3360 NA                    \n",
       "8803 NA                    \n",
       "9424 NA                    "
      ]
     },
     "metadata": {},
     "output_type": "display_data"
    }
   ],
   "source": [
    "meta <- meta[meta$Method != \"Smart-seq2\",]\n",
    "meta$PBMC10x_ItClust_3090_0[is.na(meta$PBMC10x_ItClust_3090_0)] <- \"Not Predicted\"\n"
   ]
  },
  {
   "cell_type": "code",
   "execution_count": null,
   "id": "462bc789-675f-4604-bba2-3a42ec398d97",
   "metadata": {},
   "outputs": [],
   "source": []
  }
 ],
 "metadata": {
  "kernelspec": {
   "display_name": "R",
   "language": "R",
   "name": "ir"
  },
  "language_info": {
   "codemirror_mode": "r",
   "file_extension": ".r",
   "mimetype": "text/x-r-source",
   "name": "R",
   "pygments_lexer": "r",
   "version": "4.2.2"
  }
 },
 "nbformat": 4,
 "nbformat_minor": 5
}
