{
 "cells": [
  {
   "cell_type": "code",
   "execution_count": 2,
   "id": "6cb3d7f2-88fc-4cb8-b65d-72de817a4d9b",
   "metadata": {},
   "outputs": [
    {
     "data": {
      "text/html": [
       "<style>\n",
       ".list-inline {list-style: none; margin:0; padding: 0}\n",
       ".list-inline>li {display: inline-block}\n",
       ".list-inline>li:not(:last-child)::after {content: \"\\00b7\"; padding: 0 .5ex}\n",
       "</style>\n",
       "<ol class=list-inline><li>'../Data/Subsets//PBMC10x_100_1'</li><li>'../Data/Subsets//PBMC10x_100_10'</li><li>'../Data/Subsets//PBMC10x_100_100'</li><li>'../Data/Subsets//PBMC10x_100_101'</li><li>'../Data/Subsets//PBMC10x_100_102'</li><li>'../Data/Subsets//PBMC10x_100_103'</li></ol>\n"
      ],
      "text/latex": [
       "\\begin{enumerate*}\n",
       "\\item '../Data/Subsets//PBMC10x\\_100\\_1'\n",
       "\\item '../Data/Subsets//PBMC10x\\_100\\_10'\n",
       "\\item '../Data/Subsets//PBMC10x\\_100\\_100'\n",
       "\\item '../Data/Subsets//PBMC10x\\_100\\_101'\n",
       "\\item '../Data/Subsets//PBMC10x\\_100\\_102'\n",
       "\\item '../Data/Subsets//PBMC10x\\_100\\_103'\n",
       "\\end{enumerate*}\n"
      ],
      "text/markdown": [
       "1. '../Data/Subsets//PBMC10x_100_1'\n",
       "2. '../Data/Subsets//PBMC10x_100_10'\n",
       "3. '../Data/Subsets//PBMC10x_100_100'\n",
       "4. '../Data/Subsets//PBMC10x_100_101'\n",
       "5. '../Data/Subsets//PBMC10x_100_102'\n",
       "6. '../Data/Subsets//PBMC10x_100_103'\n",
       "\n",
       "\n"
      ],
      "text/plain": [
       "[1] \"../Data/Subsets//PBMC10x_100_1\"   \"../Data/Subsets//PBMC10x_100_10\" \n",
       "[3] \"../Data/Subsets//PBMC10x_100_100\" \"../Data/Subsets//PBMC10x_100_101\"\n",
       "[5] \"../Data/Subsets//PBMC10x_100_102\" \"../Data/Subsets//PBMC10x_100_103\""
      ]
     },
     "metadata": {},
     "output_type": "display_data"
    }
   ],
   "source": [
    "files <- list.files(\"../Data/Subsets/\", full.names = T, pattern = \"_100_\" ) \n",
    "head(files)"
   ]
  },
  {
   "cell_type": "code",
   "execution_count": 3,
   "id": "4177385d-63b7-44de-a668-69b3912d7ee2",
   "metadata": {},
   "outputs": [],
   "source": [
    "data <- lapply(files, function(file) read.csv(paste(sep=\"/\", file, \"meta_train.txt\")))"
   ]
  },
  {
   "cell_type": "code",
   "execution_count": 7,
   "id": "c0b5b80c-c85f-4f93-ab4f-28d16ad8049c",
   "metadata": {},
   "outputs": [],
   "source": [
    "cells <- lapply(data, function(d) d$id)"
   ]
  },
  {
   "cell_type": "code",
   "execution_count": 8,
   "id": "e74bab3f-95e4-41db-b907-397682f3a01f",
   "metadata": {},
   "outputs": [
    {
     "data": {
      "text/html": [
       "<table class=\"dataframe\">\n",
       "<caption>A data.frame: 6 × 8</caption>\n",
       "<thead>\n",
       "\t<tr><th></th><th scope=col>id</th><th scope=col>nGene</th><th scope=col>nUMI</th><th scope=col>percent.mito</th><th scope=col>Cluster</th><th scope=col>class_</th><th scope=col>Experiment</th><th scope=col>Method</th></tr>\n",
       "\t<tr><th></th><th scope=col>&lt;chr&gt;</th><th scope=col>&lt;int&gt;</th><th scope=col>&lt;int&gt;</th><th scope=col>&lt;dbl&gt;</th><th scope=col>&lt;int&gt;</th><th scope=col>&lt;chr&gt;</th><th scope=col>&lt;chr&gt;</th><th scope=col>&lt;chr&gt;</th></tr>\n",
       "</thead>\n",
       "<tbody>\n",
       "\t<tr><th scope=row>1</th><td>pbmc1_10x_v2_A_AAAGATGCAAAGTCAA</td><td> 851</td><td>2177</td><td>0.03812586</td><td>5</td><td>CD14+ monocyte</td><td>pbmc1</td><td>10x</td></tr>\n",
       "\t<tr><th scope=row>2</th><td>pbmc1_10x_v2_A_AAAGCAAGTAGGAGTC</td><td>1078</td><td>3065</td><td>0.04176183</td><td>5</td><td>CD14+ monocyte</td><td>pbmc1</td><td>10x</td></tr>\n",
       "\t<tr><th scope=row>3</th><td>pbmc1_10x_v2_A_AAAGCAATCGGTTCGG</td><td> 538</td><td> 977</td><td>0.09928352</td><td>4</td><td>CD14+ monocyte</td><td>pbmc1</td><td>10x</td></tr>\n",
       "\t<tr><th scope=row>4</th><td>pbmc1_10x_v2_A_AAAGTAGTCATTTGGG</td><td>1544</td><td>4933</td><td>0.04277316</td><td>5</td><td>CD14+ monocyte</td><td>pbmc1</td><td>10x</td></tr>\n",
       "\t<tr><th scope=row>5</th><td>pbmc1_10x_v2_A_AAAGTAGTCCGAGCCA</td><td> 632</td><td>1487</td><td>0.04774714</td><td>4</td><td>CD14+ monocyte</td><td>pbmc1</td><td>10x</td></tr>\n",
       "\t<tr><th scope=row>6</th><td>pbmc1_10x_v2_A_AAATGCCGTGGCAAAC</td><td> 666</td><td>1575</td><td>0.04888889</td><td>4</td><td>CD14+ monocyte</td><td>pbmc1</td><td>10x</td></tr>\n",
       "</tbody>\n",
       "</table>\n"
      ],
      "text/latex": [
       "A data.frame: 6 × 8\n",
       "\\begin{tabular}{r|llllllll}\n",
       "  & id & nGene & nUMI & percent.mito & Cluster & class\\_ & Experiment & Method\\\\\n",
       "  & <chr> & <int> & <int> & <dbl> & <int> & <chr> & <chr> & <chr>\\\\\n",
       "\\hline\n",
       "\t1 & pbmc1\\_10x\\_v2\\_A\\_AAAGATGCAAAGTCAA &  851 & 2177 & 0.03812586 & 5 & CD14+ monocyte & pbmc1 & 10x\\\\\n",
       "\t2 & pbmc1\\_10x\\_v2\\_A\\_AAAGCAAGTAGGAGTC & 1078 & 3065 & 0.04176183 & 5 & CD14+ monocyte & pbmc1 & 10x\\\\\n",
       "\t3 & pbmc1\\_10x\\_v2\\_A\\_AAAGCAATCGGTTCGG &  538 &  977 & 0.09928352 & 4 & CD14+ monocyte & pbmc1 & 10x\\\\\n",
       "\t4 & pbmc1\\_10x\\_v2\\_A\\_AAAGTAGTCATTTGGG & 1544 & 4933 & 0.04277316 & 5 & CD14+ monocyte & pbmc1 & 10x\\\\\n",
       "\t5 & pbmc1\\_10x\\_v2\\_A\\_AAAGTAGTCCGAGCCA &  632 & 1487 & 0.04774714 & 4 & CD14+ monocyte & pbmc1 & 10x\\\\\n",
       "\t6 & pbmc1\\_10x\\_v2\\_A\\_AAATGCCGTGGCAAAC &  666 & 1575 & 0.04888889 & 4 & CD14+ monocyte & pbmc1 & 10x\\\\\n",
       "\\end{tabular}\n"
      ],
      "text/markdown": [
       "\n",
       "A data.frame: 6 × 8\n",
       "\n",
       "| <!--/--> | id &lt;chr&gt; | nGene &lt;int&gt; | nUMI &lt;int&gt; | percent.mito &lt;dbl&gt; | Cluster &lt;int&gt; | class_ &lt;chr&gt; | Experiment &lt;chr&gt; | Method &lt;chr&gt; |\n",
       "|---|---|---|---|---|---|---|---|---|\n",
       "| 1 | pbmc1_10x_v2_A_AAAGATGCAAAGTCAA |  851 | 2177 | 0.03812586 | 5 | CD14+ monocyte | pbmc1 | 10x |\n",
       "| 2 | pbmc1_10x_v2_A_AAAGCAAGTAGGAGTC | 1078 | 3065 | 0.04176183 | 5 | CD14+ monocyte | pbmc1 | 10x |\n",
       "| 3 | pbmc1_10x_v2_A_AAAGCAATCGGTTCGG |  538 |  977 | 0.09928352 | 4 | CD14+ monocyte | pbmc1 | 10x |\n",
       "| 4 | pbmc1_10x_v2_A_AAAGTAGTCATTTGGG | 1544 | 4933 | 0.04277316 | 5 | CD14+ monocyte | pbmc1 | 10x |\n",
       "| 5 | pbmc1_10x_v2_A_AAAGTAGTCCGAGCCA |  632 | 1487 | 0.04774714 | 4 | CD14+ monocyte | pbmc1 | 10x |\n",
       "| 6 | pbmc1_10x_v2_A_AAATGCCGTGGCAAAC |  666 | 1575 | 0.04888889 | 4 | CD14+ monocyte | pbmc1 | 10x |\n",
       "\n"
      ],
      "text/plain": [
       "  id                              nGene nUMI percent.mito Cluster\n",
       "1 pbmc1_10x_v2_A_AAAGATGCAAAGTCAA  851  2177 0.03812586   5      \n",
       "2 pbmc1_10x_v2_A_AAAGCAAGTAGGAGTC 1078  3065 0.04176183   5      \n",
       "3 pbmc1_10x_v2_A_AAAGCAATCGGTTCGG  538   977 0.09928352   4      \n",
       "4 pbmc1_10x_v2_A_AAAGTAGTCATTTGGG 1544  4933 0.04277316   5      \n",
       "5 pbmc1_10x_v2_A_AAAGTAGTCCGAGCCA  632  1487 0.04774714   4      \n",
       "6 pbmc1_10x_v2_A_AAATGCCGTGGCAAAC  666  1575 0.04888889   4      \n",
       "  class_         Experiment Method\n",
       "1 CD14+ monocyte pbmc1      10x   \n",
       "2 CD14+ monocyte pbmc1      10x   \n",
       "3 CD14+ monocyte pbmc1      10x   \n",
       "4 CD14+ monocyte pbmc1      10x   \n",
       "5 CD14+ monocyte pbmc1      10x   \n",
       "6 CD14+ monocyte pbmc1      10x   "
      ]
     },
     "metadata": {},
     "output_type": "display_data"
    }
   ],
   "source": [
    "reference <- read.csv(\"../Data//Fulldata//PBMC10x_Reference/meta.csv\")\n",
    "head(reference)"
   ]
  },
  {
   "cell_type": "code",
   "execution_count": 13,
   "id": "1f6985c1-7d41-4ca8-9a6b-620f6cdeac08",
   "metadata": {},
   "outputs": [
    {
     "data": {
      "text/html": [
       "<table class=\"dataframe\">\n",
       "<caption>A matrix: 6 × 1062 of type lgl</caption>\n",
       "<thead>\n",
       "\t<tr><th></th><th scope=col>PBMC10x_100_1</th><th scope=col>PBMC10x_100_10</th><th scope=col>PBMC10x_100_100</th><th scope=col>PBMC10x_100_101</th><th scope=col>PBMC10x_100_102</th><th scope=col>PBMC10x_100_103</th><th scope=col>PBMC10x_100_104</th><th scope=col>PBMC10x_100_105</th><th scope=col>PBMC10x_100_106</th><th scope=col>PBMC10x_100_107</th><th scope=col>⋯</th><th scope=col>PBMCMosaic_102_91</th><th scope=col>PBMCMosaic_102_92</th><th scope=col>PBMCMosaic_102_93</th><th scope=col>PBMCMosaic_102_94</th><th scope=col>PBMCMosaic_102_95</th><th scope=col>PBMCMosaic_102_96</th><th scope=col>PBMCMosaic_102_97</th><th scope=col>PBMCMosaic_102_98</th><th scope=col>PBMCMosaic_102_99</th><th scope=col>PBMCMosaic_5503_0</th></tr>\n",
       "</thead>\n",
       "<tbody>\n",
       "\t<tr><th scope=row>pbmc1_10x_v2_A_AAAGATGCAAAGTCAA</th><td>FALSE</td><td>FALSE</td><td>FALSE</td><td>FALSE</td><td>FALSE</td><td>FALSE</td><td>FALSE</td><td>FALSE</td><td>FALSE</td><td>FALSE</td><td>⋯</td><td>FALSE</td><td>FALSE</td><td>FALSE</td><td>FALSE</td><td>FALSE</td><td>FALSE</td><td>FALSE</td><td>FALSE</td><td>FALSE</td><td>TRUE</td></tr>\n",
       "\t<tr><th scope=row>pbmc1_10x_v2_A_AAAGCAAGTAGGAGTC</th><td>FALSE</td><td>FALSE</td><td>FALSE</td><td> TRUE</td><td>FALSE</td><td>FALSE</td><td>FALSE</td><td>FALSE</td><td>FALSE</td><td>FALSE</td><td>⋯</td><td>FALSE</td><td>FALSE</td><td>FALSE</td><td>FALSE</td><td>FALSE</td><td>FALSE</td><td>FALSE</td><td> TRUE</td><td>FALSE</td><td>TRUE</td></tr>\n",
       "\t<tr><th scope=row>pbmc1_10x_v2_A_AAAGCAATCGGTTCGG</th><td>FALSE</td><td>FALSE</td><td>FALSE</td><td>FALSE</td><td>FALSE</td><td>FALSE</td><td>FALSE</td><td>FALSE</td><td> TRUE</td><td> TRUE</td><td>⋯</td><td>FALSE</td><td>FALSE</td><td>FALSE</td><td>FALSE</td><td>FALSE</td><td>FALSE</td><td>FALSE</td><td>FALSE</td><td>FALSE</td><td>TRUE</td></tr>\n",
       "\t<tr><th scope=row>pbmc1_10x_v2_A_AAAGTAGTCATTTGGG</th><td>FALSE</td><td>FALSE</td><td>FALSE</td><td>FALSE</td><td>FALSE</td><td>FALSE</td><td>FALSE</td><td>FALSE</td><td>FALSE</td><td>FALSE</td><td>⋯</td><td>FALSE</td><td>FALSE</td><td>FALSE</td><td>FALSE</td><td>FALSE</td><td>FALSE</td><td>FALSE</td><td>FALSE</td><td>FALSE</td><td>TRUE</td></tr>\n",
       "\t<tr><th scope=row>pbmc1_10x_v2_A_AAAGTAGTCCGAGCCA</th><td>FALSE</td><td>FALSE</td><td>FALSE</td><td>FALSE</td><td>FALSE</td><td>FALSE</td><td>FALSE</td><td>FALSE</td><td>FALSE</td><td>FALSE</td><td>⋯</td><td>FALSE</td><td>FALSE</td><td>FALSE</td><td>FALSE</td><td>FALSE</td><td>FALSE</td><td>FALSE</td><td>FALSE</td><td>FALSE</td><td>TRUE</td></tr>\n",
       "\t<tr><th scope=row>pbmc1_10x_v2_A_AAATGCCGTGGCAAAC</th><td>FALSE</td><td>FALSE</td><td>FALSE</td><td>FALSE</td><td>FALSE</td><td>FALSE</td><td>FALSE</td><td>FALSE</td><td>FALSE</td><td>FALSE</td><td>⋯</td><td>FALSE</td><td>FALSE</td><td>FALSE</td><td>FALSE</td><td>FALSE</td><td>FALSE</td><td>FALSE</td><td>FALSE</td><td>FALSE</td><td>TRUE</td></tr>\n",
       "</tbody>\n",
       "</table>\n"
      ],
      "text/latex": [
       "A matrix: 6 × 1062 of type lgl\n",
       "\\begin{tabular}{r|lllllllllllllllllllll}\n",
       "  & PBMC10x\\_100\\_1 & PBMC10x\\_100\\_10 & PBMC10x\\_100\\_100 & PBMC10x\\_100\\_101 & PBMC10x\\_100\\_102 & PBMC10x\\_100\\_103 & PBMC10x\\_100\\_104 & PBMC10x\\_100\\_105 & PBMC10x\\_100\\_106 & PBMC10x\\_100\\_107 & ⋯ & PBMCMosaic\\_102\\_91 & PBMCMosaic\\_102\\_92 & PBMCMosaic\\_102\\_93 & PBMCMosaic\\_102\\_94 & PBMCMosaic\\_102\\_95 & PBMCMosaic\\_102\\_96 & PBMCMosaic\\_102\\_97 & PBMCMosaic\\_102\\_98 & PBMCMosaic\\_102\\_99 & PBMCMosaic\\_5503\\_0\\\\\n",
       "\\hline\n",
       "\tpbmc1\\_10x\\_v2\\_A\\_AAAGATGCAAAGTCAA & FALSE & FALSE & FALSE & FALSE & FALSE & FALSE & FALSE & FALSE & FALSE & FALSE & ⋯ & FALSE & FALSE & FALSE & FALSE & FALSE & FALSE & FALSE & FALSE & FALSE & TRUE\\\\\n",
       "\tpbmc1\\_10x\\_v2\\_A\\_AAAGCAAGTAGGAGTC & FALSE & FALSE & FALSE &  TRUE & FALSE & FALSE & FALSE & FALSE & FALSE & FALSE & ⋯ & FALSE & FALSE & FALSE & FALSE & FALSE & FALSE & FALSE &  TRUE & FALSE & TRUE\\\\\n",
       "\tpbmc1\\_10x\\_v2\\_A\\_AAAGCAATCGGTTCGG & FALSE & FALSE & FALSE & FALSE & FALSE & FALSE & FALSE & FALSE &  TRUE &  TRUE & ⋯ & FALSE & FALSE & FALSE & FALSE & FALSE & FALSE & FALSE & FALSE & FALSE & TRUE\\\\\n",
       "\tpbmc1\\_10x\\_v2\\_A\\_AAAGTAGTCATTTGGG & FALSE & FALSE & FALSE & FALSE & FALSE & FALSE & FALSE & FALSE & FALSE & FALSE & ⋯ & FALSE & FALSE & FALSE & FALSE & FALSE & FALSE & FALSE & FALSE & FALSE & TRUE\\\\\n",
       "\tpbmc1\\_10x\\_v2\\_A\\_AAAGTAGTCCGAGCCA & FALSE & FALSE & FALSE & FALSE & FALSE & FALSE & FALSE & FALSE & FALSE & FALSE & ⋯ & FALSE & FALSE & FALSE & FALSE & FALSE & FALSE & FALSE & FALSE & FALSE & TRUE\\\\\n",
       "\tpbmc1\\_10x\\_v2\\_A\\_AAATGCCGTGGCAAAC & FALSE & FALSE & FALSE & FALSE & FALSE & FALSE & FALSE & FALSE & FALSE & FALSE & ⋯ & FALSE & FALSE & FALSE & FALSE & FALSE & FALSE & FALSE & FALSE & FALSE & TRUE\\\\\n",
       "\\end{tabular}\n"
      ],
      "text/markdown": [
       "\n",
       "A matrix: 6 × 1062 of type lgl\n",
       "\n",
       "| <!--/--> | PBMC10x_100_1 | PBMC10x_100_10 | PBMC10x_100_100 | PBMC10x_100_101 | PBMC10x_100_102 | PBMC10x_100_103 | PBMC10x_100_104 | PBMC10x_100_105 | PBMC10x_100_106 | PBMC10x_100_107 | ⋯ | PBMCMosaic_102_91 | PBMCMosaic_102_92 | PBMCMosaic_102_93 | PBMCMosaic_102_94 | PBMCMosaic_102_95 | PBMCMosaic_102_96 | PBMCMosaic_102_97 | PBMCMosaic_102_98 | PBMCMosaic_102_99 | PBMCMosaic_5503_0 |\n",
       "|---|---|---|---|---|---|---|---|---|---|---|---|---|---|---|---|---|---|---|---|---|---|\n",
       "| pbmc1_10x_v2_A_AAAGATGCAAAGTCAA | FALSE | FALSE | FALSE | FALSE | FALSE | FALSE | FALSE | FALSE | FALSE | FALSE | ⋯ | FALSE | FALSE | FALSE | FALSE | FALSE | FALSE | FALSE | FALSE | FALSE | TRUE |\n",
       "| pbmc1_10x_v2_A_AAAGCAAGTAGGAGTC | FALSE | FALSE | FALSE |  TRUE | FALSE | FALSE | FALSE | FALSE | FALSE | FALSE | ⋯ | FALSE | FALSE | FALSE | FALSE | FALSE | FALSE | FALSE |  TRUE | FALSE | TRUE |\n",
       "| pbmc1_10x_v2_A_AAAGCAATCGGTTCGG | FALSE | FALSE | FALSE | FALSE | FALSE | FALSE | FALSE | FALSE |  TRUE |  TRUE | ⋯ | FALSE | FALSE | FALSE | FALSE | FALSE | FALSE | FALSE | FALSE | FALSE | TRUE |\n",
       "| pbmc1_10x_v2_A_AAAGTAGTCATTTGGG | FALSE | FALSE | FALSE | FALSE | FALSE | FALSE | FALSE | FALSE | FALSE | FALSE | ⋯ | FALSE | FALSE | FALSE | FALSE | FALSE | FALSE | FALSE | FALSE | FALSE | TRUE |\n",
       "| pbmc1_10x_v2_A_AAAGTAGTCCGAGCCA | FALSE | FALSE | FALSE | FALSE | FALSE | FALSE | FALSE | FALSE | FALSE | FALSE | ⋯ | FALSE | FALSE | FALSE | FALSE | FALSE | FALSE | FALSE | FALSE | FALSE | TRUE |\n",
       "| pbmc1_10x_v2_A_AAATGCCGTGGCAAAC | FALSE | FALSE | FALSE | FALSE | FALSE | FALSE | FALSE | FALSE | FALSE | FALSE | ⋯ | FALSE | FALSE | FALSE | FALSE | FALSE | FALSE | FALSE | FALSE | FALSE | TRUE |\n",
       "\n"
      ],
      "text/plain": [
       "                                PBMC10x_100_1 PBMC10x_100_10 PBMC10x_100_100\n",
       "pbmc1_10x_v2_A_AAAGATGCAAAGTCAA FALSE         FALSE          FALSE          \n",
       "pbmc1_10x_v2_A_AAAGCAAGTAGGAGTC FALSE         FALSE          FALSE          \n",
       "pbmc1_10x_v2_A_AAAGCAATCGGTTCGG FALSE         FALSE          FALSE          \n",
       "pbmc1_10x_v2_A_AAAGTAGTCATTTGGG FALSE         FALSE          FALSE          \n",
       "pbmc1_10x_v2_A_AAAGTAGTCCGAGCCA FALSE         FALSE          FALSE          \n",
       "pbmc1_10x_v2_A_AAATGCCGTGGCAAAC FALSE         FALSE          FALSE          \n",
       "                                PBMC10x_100_101 PBMC10x_100_102 PBMC10x_100_103\n",
       "pbmc1_10x_v2_A_AAAGATGCAAAGTCAA FALSE           FALSE           FALSE          \n",
       "pbmc1_10x_v2_A_AAAGCAAGTAGGAGTC  TRUE           FALSE           FALSE          \n",
       "pbmc1_10x_v2_A_AAAGCAATCGGTTCGG FALSE           FALSE           FALSE          \n",
       "pbmc1_10x_v2_A_AAAGTAGTCATTTGGG FALSE           FALSE           FALSE          \n",
       "pbmc1_10x_v2_A_AAAGTAGTCCGAGCCA FALSE           FALSE           FALSE          \n",
       "pbmc1_10x_v2_A_AAATGCCGTGGCAAAC FALSE           FALSE           FALSE          \n",
       "                                PBMC10x_100_104 PBMC10x_100_105 PBMC10x_100_106\n",
       "pbmc1_10x_v2_A_AAAGATGCAAAGTCAA FALSE           FALSE           FALSE          \n",
       "pbmc1_10x_v2_A_AAAGCAAGTAGGAGTC FALSE           FALSE           FALSE          \n",
       "pbmc1_10x_v2_A_AAAGCAATCGGTTCGG FALSE           FALSE            TRUE          \n",
       "pbmc1_10x_v2_A_AAAGTAGTCATTTGGG FALSE           FALSE           FALSE          \n",
       "pbmc1_10x_v2_A_AAAGTAGTCCGAGCCA FALSE           FALSE           FALSE          \n",
       "pbmc1_10x_v2_A_AAATGCCGTGGCAAAC FALSE           FALSE           FALSE          \n",
       "                                PBMC10x_100_107 ⋯ PBMCMosaic_102_91\n",
       "pbmc1_10x_v2_A_AAAGATGCAAAGTCAA FALSE           ⋯ FALSE            \n",
       "pbmc1_10x_v2_A_AAAGCAAGTAGGAGTC FALSE           ⋯ FALSE            \n",
       "pbmc1_10x_v2_A_AAAGCAATCGGTTCGG  TRUE           ⋯ FALSE            \n",
       "pbmc1_10x_v2_A_AAAGTAGTCATTTGGG FALSE           ⋯ FALSE            \n",
       "pbmc1_10x_v2_A_AAAGTAGTCCGAGCCA FALSE           ⋯ FALSE            \n",
       "pbmc1_10x_v2_A_AAATGCCGTGGCAAAC FALSE           ⋯ FALSE            \n",
       "                                PBMCMosaic_102_92 PBMCMosaic_102_93\n",
       "pbmc1_10x_v2_A_AAAGATGCAAAGTCAA FALSE             FALSE            \n",
       "pbmc1_10x_v2_A_AAAGCAAGTAGGAGTC FALSE             FALSE            \n",
       "pbmc1_10x_v2_A_AAAGCAATCGGTTCGG FALSE             FALSE            \n",
       "pbmc1_10x_v2_A_AAAGTAGTCATTTGGG FALSE             FALSE            \n",
       "pbmc1_10x_v2_A_AAAGTAGTCCGAGCCA FALSE             FALSE            \n",
       "pbmc1_10x_v2_A_AAATGCCGTGGCAAAC FALSE             FALSE            \n",
       "                                PBMCMosaic_102_94 PBMCMosaic_102_95\n",
       "pbmc1_10x_v2_A_AAAGATGCAAAGTCAA FALSE             FALSE            \n",
       "pbmc1_10x_v2_A_AAAGCAAGTAGGAGTC FALSE             FALSE            \n",
       "pbmc1_10x_v2_A_AAAGCAATCGGTTCGG FALSE             FALSE            \n",
       "pbmc1_10x_v2_A_AAAGTAGTCATTTGGG FALSE             FALSE            \n",
       "pbmc1_10x_v2_A_AAAGTAGTCCGAGCCA FALSE             FALSE            \n",
       "pbmc1_10x_v2_A_AAATGCCGTGGCAAAC FALSE             FALSE            \n",
       "                                PBMCMosaic_102_96 PBMCMosaic_102_97\n",
       "pbmc1_10x_v2_A_AAAGATGCAAAGTCAA FALSE             FALSE            \n",
       "pbmc1_10x_v2_A_AAAGCAAGTAGGAGTC FALSE             FALSE            \n",
       "pbmc1_10x_v2_A_AAAGCAATCGGTTCGG FALSE             FALSE            \n",
       "pbmc1_10x_v2_A_AAAGTAGTCATTTGGG FALSE             FALSE            \n",
       "pbmc1_10x_v2_A_AAAGTAGTCCGAGCCA FALSE             FALSE            \n",
       "pbmc1_10x_v2_A_AAATGCCGTGGCAAAC FALSE             FALSE            \n",
       "                                PBMCMosaic_102_98 PBMCMosaic_102_99\n",
       "pbmc1_10x_v2_A_AAAGATGCAAAGTCAA FALSE             FALSE            \n",
       "pbmc1_10x_v2_A_AAAGCAAGTAGGAGTC  TRUE             FALSE            \n",
       "pbmc1_10x_v2_A_AAAGCAATCGGTTCGG FALSE             FALSE            \n",
       "pbmc1_10x_v2_A_AAAGTAGTCATTTGGG FALSE             FALSE            \n",
       "pbmc1_10x_v2_A_AAAGTAGTCCGAGCCA FALSE             FALSE            \n",
       "pbmc1_10x_v2_A_AAATGCCGTGGCAAAC FALSE             FALSE            \n",
       "                                PBMCMosaic_5503_0\n",
       "pbmc1_10x_v2_A_AAAGATGCAAAGTCAA TRUE             \n",
       "pbmc1_10x_v2_A_AAAGCAAGTAGGAGTC TRUE             \n",
       "pbmc1_10x_v2_A_AAAGCAATCGGTTCGG TRUE             \n",
       "pbmc1_10x_v2_A_AAAGTAGTCATTTGGG TRUE             \n",
       "pbmc1_10x_v2_A_AAAGTAGTCCGAGCCA TRUE             \n",
       "pbmc1_10x_v2_A_AAATGCCGTGGCAAAC TRUE             "
      ]
     },
     "metadata": {},
     "output_type": "display_data"
    }
   ],
   "source": [
    "present <- sapply(cells, function(set) reference$id %in% set)\n",
    "rownames(present) <- reference$id\n",
    "colnames(present) <- list.files(\"../Data/Subsets/\", full.names = F, pattern = \"_100_\")\n",
    "head(present)"
   ]
  },
  {
   "cell_type": "code",
   "execution_count": 15,
   "id": "1d903460-8278-44b3-a821-53152e6af0bc",
   "metadata": {},
   "outputs": [
    {
     "data": {
      "text/html": [
       "<table class=\"dataframe\">\n",
       "<caption>A data.frame: 6 × 3</caption>\n",
       "<thead>\n",
       "\t<tr><th></th><th scope=col>Var1</th><th scope=col>Var2</th><th scope=col>value</th></tr>\n",
       "\t<tr><th></th><th scope=col>&lt;fct&gt;</th><th scope=col>&lt;fct&gt;</th><th scope=col>&lt;lgl&gt;</th></tr>\n",
       "</thead>\n",
       "<tbody>\n",
       "\t<tr><th scope=row>1</th><td>pbmc1_10x_v2_A_AAAGATGCAAAGTCAA</td><td>PBMC10x_100_1</td><td>FALSE</td></tr>\n",
       "\t<tr><th scope=row>2</th><td>pbmc1_10x_v2_A_AAAGCAAGTAGGAGTC</td><td>PBMC10x_100_1</td><td>FALSE</td></tr>\n",
       "\t<tr><th scope=row>3</th><td>pbmc1_10x_v2_A_AAAGCAATCGGTTCGG</td><td>PBMC10x_100_1</td><td>FALSE</td></tr>\n",
       "\t<tr><th scope=row>4</th><td>pbmc1_10x_v2_A_AAAGTAGTCATTTGGG</td><td>PBMC10x_100_1</td><td>FALSE</td></tr>\n",
       "\t<tr><th scope=row>5</th><td>pbmc1_10x_v2_A_AAAGTAGTCCGAGCCA</td><td>PBMC10x_100_1</td><td>FALSE</td></tr>\n",
       "\t<tr><th scope=row>6</th><td>pbmc1_10x_v2_A_AAATGCCGTGGCAAAC</td><td>PBMC10x_100_1</td><td>FALSE</td></tr>\n",
       "</tbody>\n",
       "</table>\n"
      ],
      "text/latex": [
       "A data.frame: 6 × 3\n",
       "\\begin{tabular}{r|lll}\n",
       "  & Var1 & Var2 & value\\\\\n",
       "  & <fct> & <fct> & <lgl>\\\\\n",
       "\\hline\n",
       "\t1 & pbmc1\\_10x\\_v2\\_A\\_AAAGATGCAAAGTCAA & PBMC10x\\_100\\_1 & FALSE\\\\\n",
       "\t2 & pbmc1\\_10x\\_v2\\_A\\_AAAGCAAGTAGGAGTC & PBMC10x\\_100\\_1 & FALSE\\\\\n",
       "\t3 & pbmc1\\_10x\\_v2\\_A\\_AAAGCAATCGGTTCGG & PBMC10x\\_100\\_1 & FALSE\\\\\n",
       "\t4 & pbmc1\\_10x\\_v2\\_A\\_AAAGTAGTCATTTGGG & PBMC10x\\_100\\_1 & FALSE\\\\\n",
       "\t5 & pbmc1\\_10x\\_v2\\_A\\_AAAGTAGTCCGAGCCA & PBMC10x\\_100\\_1 & FALSE\\\\\n",
       "\t6 & pbmc1\\_10x\\_v2\\_A\\_AAATGCCGTGGCAAAC & PBMC10x\\_100\\_1 & FALSE\\\\\n",
       "\\end{tabular}\n"
      ],
      "text/markdown": [
       "\n",
       "A data.frame: 6 × 3\n",
       "\n",
       "| <!--/--> | Var1 &lt;fct&gt; | Var2 &lt;fct&gt; | value &lt;lgl&gt; |\n",
       "|---|---|---|---|\n",
       "| 1 | pbmc1_10x_v2_A_AAAGATGCAAAGTCAA | PBMC10x_100_1 | FALSE |\n",
       "| 2 | pbmc1_10x_v2_A_AAAGCAAGTAGGAGTC | PBMC10x_100_1 | FALSE |\n",
       "| 3 | pbmc1_10x_v2_A_AAAGCAATCGGTTCGG | PBMC10x_100_1 | FALSE |\n",
       "| 4 | pbmc1_10x_v2_A_AAAGTAGTCATTTGGG | PBMC10x_100_1 | FALSE |\n",
       "| 5 | pbmc1_10x_v2_A_AAAGTAGTCCGAGCCA | PBMC10x_100_1 | FALSE |\n",
       "| 6 | pbmc1_10x_v2_A_AAATGCCGTGGCAAAC | PBMC10x_100_1 | FALSE |\n",
       "\n"
      ],
      "text/plain": [
       "  Var1                            Var2          value\n",
       "1 pbmc1_10x_v2_A_AAAGATGCAAAGTCAA PBMC10x_100_1 FALSE\n",
       "2 pbmc1_10x_v2_A_AAAGCAAGTAGGAGTC PBMC10x_100_1 FALSE\n",
       "3 pbmc1_10x_v2_A_AAAGCAATCGGTTCGG PBMC10x_100_1 FALSE\n",
       "4 pbmc1_10x_v2_A_AAAGTAGTCATTTGGG PBMC10x_100_1 FALSE\n",
       "5 pbmc1_10x_v2_A_AAAGTAGTCCGAGCCA PBMC10x_100_1 FALSE\n",
       "6 pbmc1_10x_v2_A_AAATGCCGTGGCAAAC PBMC10x_100_1 FALSE"
      ]
     },
     "metadata": {},
     "output_type": "display_data"
    }
   ],
   "source": [
    "x <- reshape2::melt(present)\n",
    "head(x)"
   ]
  },
  {
   "cell_type": "code",
   "execution_count": null,
   "id": "17b47e24-a0f4-4214-96ee-c479471890b2",
   "metadata": {},
   "outputs": [],
   "source": [
    "library(ggplot2)\n",
    "ggplot(x, aes(Var1, Var2, color=value))+geom_point()"
   ]
  },
  {
   "cell_type": "code",
   "execution_count": null,
   "id": "4c2f73f1-f238-42f0-8b8b-8597d301d303",
   "metadata": {},
   "outputs": [],
   "source": []
  }
 ],
 "metadata": {
  "kernelspec": {
   "display_name": "R",
   "language": "R",
   "name": "ir"
  },
  "language_info": {
   "codemirror_mode": "r",
   "file_extension": ".r",
   "mimetype": "text/x-r-source",
   "name": "R",
   "pygments_lexer": "r",
   "version": "4.0.5"
  }
 },
 "nbformat": 4,
 "nbformat_minor": 5
}
