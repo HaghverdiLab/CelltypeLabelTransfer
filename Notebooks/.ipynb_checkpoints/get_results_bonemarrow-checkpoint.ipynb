{
 "cells": [
  {
   "cell_type": "code",
   "execution_count": 1,
   "id": "08de9d63-cff8-4cae-9a72-2148281db3be",
   "metadata": {},
   "outputs": [
    {
     "name": "stderr",
     "output_type": "stream",
     "text": [
      "\n",
      "Attaching package: ‘dplyr’\n",
      "\n",
      "\n",
      "The following objects are masked from ‘package:stats’:\n",
      "\n",
      "    filter, lag\n",
      "\n",
      "\n",
      "The following objects are masked from ‘package:base’:\n",
      "\n",
      "    intersect, setdiff, setequal, union\n",
      "\n",
      "\n"
     ]
    }
   ],
   "source": [
    "source(\"summarize_functions.r\")\n",
    "source(\"../Scripts/functions.R\")\n",
    "source(\"../Scripts/visulizations.r\")\n",
    "library(dplyr)\n",
    "library(purrr)\n",
    "\n",
    "library(ggplot2)\n",
    " library(\"RColorBrewer\")\n",
    " "
   ]
  },
  {
   "cell_type": "code",
   "execution_count": 2,
   "id": "3ee05b0c-6c24-4e0c-b70d-5c69e125382e",
   "metadata": {},
   "outputs": [],
   "source": [
    "query <- read.csv(\"../Data/Fulldata/BoneMarrow_Query//meta.csv\")\n",
    "folder <- \"../Data/Predictions_bonemarrow/\"\n",
    "name <- \"BoneMarrow\""
   ]
  },
  {
   "cell_type": "code",
   "execution_count": 3,
   "id": "73cf605b-50f7-4c50-a5c6-228b318de8cf",
   "metadata": {},
   "outputs": [],
   "source": [
    "celltypes = c('T cell','B cell','NK cell',  'Monocytes', 'Erythroid','Myelocytes','Dendritic cell',   'HSCs & MPPs',  'Lymphomyeloid prog',  'Megakaryocyte progenitors',\n",
    "              'Erythro-myeloid progenitors','Plasma cells','Eosinophil-basophil-mast cell progenitors',\n",
    "              'Mesenchymal cell')\n",
    "methods <- c(\"Seurat\", \"SingleR\",\"CellID\", \"SingleCellNet\", \"ItClust\")  \n",
    "\n",
    "sizes <- c(14707,9848,5438, 4081,4019,3060,2681,1908,1454,666,492,486,199,18)\n",
    "names(sizes) <- celltypes\n",
    "\n"
   ]
  },
  {
   "cell_type": "code",
   "execution_count": 4,
   "id": "eb3b1192-6d93-41c4-8015-77b9f2f5cb90",
   "metadata": {},
   "outputs": [
    {
     "name": "stdout",
     "output_type": "stream",
     "text": [
      "[1] \"Start Seurat ...\"\n",
      "[1] \"Start SingleCellNet ...\"\n",
      "[1] \"Start SingleR ...\"\n",
      "[1] \"Start CellID ...\"\n",
      "[1] \"Start ItClust ...\"\n"
     ]
    },
    {
     "name": "stderr",
     "output_type": "stream",
     "text": [
      "Warning message:\n",
      "“\u001b[1m\u001b[22mExpected 5 pieces. Additional pieces discarded in 1816770 rows [1, 2, 3, 4, 5, 6, 7, 8, 9, 10, 11, 12, 13, 14, 15, 16, 17, 18, 19, 20, ...].”\n"
     ]
    }
   ],
   "source": [
    "seurat <- get_results_method(paste(sep=\"/\",folder,\"Seurat\"), name, \"Seurat\")\n",
    "scn <- get_results_method(paste(sep=\"/\",folder,\"SingleCellNet\" ), name, \"SingleCellNet\")\n",
    "\n",
    "singleR <- get_results_method(paste(sep=\"/\",folder,\"SingleR\" ), name, \"SingleR\")\n",
    "cellid <- get_results_method(paste(sep=\"/\",folder,\"CellID\" ), name, \"CellID\")\n",
    "itclust <- get_results_method(paste(sep=\"/\",folder,\"ItClust\" ), name, \"ItClust\")\n",
    "itclust <- adjust_names(itclust, \"ItClust\", \"BM\")\n",
    "                            \n",
    "data <- list(cellid, seurat, scn, singleR, itclust) %>% reduce(full_join, by = \"id\")#, itclust\n",
    "data <- merge(data,query)  \n",
    "rownames(data) <- data$id\n",
    "long <- make_long(data, celltypes, methods, sizes, c(\"id\", \"class_\", \"ct\")) \n",
    "full <- do.call(rbind, lapply(unique(long$class_),\n",
    "                                  function(type) do.call(rbind,lapply(unique(long$Approach),\n",
    "                                  function(method)  get_measures(long, type,\"BoneMarrow\", method, max(sizes), 1)))))\n",
    "write.csv(full, \"../Results/Files/values_full_bonemarrow.csv\")\n",
    "full$class <- factor(full$class, levels=celltypes)\n",
    "colnames(full) <- c(\"class\", \"reference\", \"method\", \"size\", \"set\", \"full_precision\", \"full_recall\", \"full_f1\",\"full_accuracy\")\n",
    "full <- full[, c(\"class\", \"reference\", \"method\", \"full_precision\", \"full_recall\", \"full_f1\",\"full_accuracy\")]\n",
    "full <- unique(full)"
   ]
  },
  {
   "cell_type": "code",
   "execution_count": 8,
   "id": "a66be631-b6d3-4bfd-82c4-396694a285d9",
   "metadata": {},
   "outputs": [
    {
     "data": {
      "text/html": [
       "<table class=\"dataframe\">\n",
       "<caption>A data.frame: 6 × 9</caption>\n",
       "<thead>\n",
       "\t<tr><th></th><th scope=col>id</th><th scope=col>class_</th><th scope=col>ct</th><th scope=col>Reference</th><th scope=col>Approach</th><th scope=col>Size</th><th scope=col>Set</th><th scope=col>Genes</th><th scope=col>predicted</th></tr>\n",
       "\t<tr><th></th><th scope=col>&lt;chr&gt;</th><th scope=col>&lt;chr&gt;</th><th scope=col>&lt;chr&gt;</th><th scope=col>&lt;chr&gt;</th><th scope=col>&lt;chr&gt;</th><th scope=col>&lt;chr&gt;</th><th scope=col>&lt;chr&gt;</th><th scope=col>&lt;chr&gt;</th><th scope=col>&lt;chr&gt;</th></tr>\n",
       "</thead>\n",
       "<tbody>\n",
       "\t<tr><th scope=row>1</th><td>X100105</td><td>Dendritic cell    </td><td>Plasmacytoid dendritic cell progenitors  </td><td>BoneMarrow</td><td>CellID</td><td>1454</td><td>1</td><td>200</td><td>Dendritic cell    </td></tr>\n",
       "\t<tr><th scope=row>2</th><td>X100197</td><td>B cell            </td><td>Mature naive B cells                     </td><td>BoneMarrow</td><td>CellID</td><td>1454</td><td>1</td><td>200</td><td>B cell            </td></tr>\n",
       "\t<tr><th scope=row>3</th><td>X100262</td><td>T cell            </td><td>CD8+CD103+ tissue resident memory T cells</td><td>BoneMarrow</td><td>CellID</td><td>1454</td><td>1</td><td>200</td><td>T cell            </td></tr>\n",
       "\t<tr><th scope=row>4</th><td>X100267</td><td>B cell            </td><td>Nonswitched memory B cells               </td><td>BoneMarrow</td><td>CellID</td><td>1454</td><td>1</td><td>200</td><td>B cell            </td></tr>\n",
       "\t<tr><th scope=row>5</th><td>X100405</td><td>T cell            </td><td>CD8+ naive T cells                       </td><td>BoneMarrow</td><td>CellID</td><td>1454</td><td>1</td><td>200</td><td>T cell            </td></tr>\n",
       "\t<tr><th scope=row>6</th><td>X100444</td><td>Lymphomyeloid prog</td><td>Lymphomyeloid prog                       </td><td>BoneMarrow</td><td>CellID</td><td>1454</td><td>1</td><td>200</td><td>Lymphomyeloid prog</td></tr>\n",
       "</tbody>\n",
       "</table>\n"
      ],
      "text/latex": [
       "A data.frame: 6 × 9\n",
       "\\begin{tabular}{r|lllllllll}\n",
       "  & id & class\\_ & ct & Reference & Approach & Size & Set & Genes & predicted\\\\\n",
       "  & <chr> & <chr> & <chr> & <chr> & <chr> & <chr> & <chr> & <chr> & <chr>\\\\\n",
       "\\hline\n",
       "\t1 & X100105 & Dendritic cell     & Plasmacytoid dendritic cell progenitors   & BoneMarrow & CellID & 1454 & 1 & 200 & Dendritic cell    \\\\\n",
       "\t2 & X100197 & B cell             & Mature naive B cells                      & BoneMarrow & CellID & 1454 & 1 & 200 & B cell            \\\\\n",
       "\t3 & X100262 & T cell             & CD8+CD103+ tissue resident memory T cells & BoneMarrow & CellID & 1454 & 1 & 200 & T cell            \\\\\n",
       "\t4 & X100267 & B cell             & Nonswitched memory B cells                & BoneMarrow & CellID & 1454 & 1 & 200 & B cell            \\\\\n",
       "\t5 & X100405 & T cell             & CD8+ naive T cells                        & BoneMarrow & CellID & 1454 & 1 & 200 & T cell            \\\\\n",
       "\t6 & X100444 & Lymphomyeloid prog & Lymphomyeloid prog                        & BoneMarrow & CellID & 1454 & 1 & 200 & Lymphomyeloid prog\\\\\n",
       "\\end{tabular}\n"
      ],
      "text/markdown": [
       "\n",
       "A data.frame: 6 × 9\n",
       "\n",
       "| <!--/--> | id &lt;chr&gt; | class_ &lt;chr&gt; | ct &lt;chr&gt; | Reference &lt;chr&gt; | Approach &lt;chr&gt; | Size &lt;chr&gt; | Set &lt;chr&gt; | Genes &lt;chr&gt; | predicted &lt;chr&gt; |\n",
       "|---|---|---|---|---|---|---|---|---|---|\n",
       "| 1 | X100105 | Dendritic cell     | Plasmacytoid dendritic cell progenitors   | BoneMarrow | CellID | 1454 | 1 | 200 | Dendritic cell     |\n",
       "| 2 | X100197 | B cell             | Mature naive B cells                      | BoneMarrow | CellID | 1454 | 1 | 200 | B cell             |\n",
       "| 3 | X100262 | T cell             | CD8+CD103+ tissue resident memory T cells | BoneMarrow | CellID | 1454 | 1 | 200 | T cell             |\n",
       "| 4 | X100267 | B cell             | Nonswitched memory B cells                | BoneMarrow | CellID | 1454 | 1 | 200 | B cell             |\n",
       "| 5 | X100405 | T cell             | CD8+ naive T cells                        | BoneMarrow | CellID | 1454 | 1 | 200 | T cell             |\n",
       "| 6 | X100444 | Lymphomyeloid prog | Lymphomyeloid prog                        | BoneMarrow | CellID | 1454 | 1 | 200 | Lymphomyeloid prog |\n",
       "\n"
      ],
      "text/plain": [
       "  id      class_             ct                                       \n",
       "1 X100105 Dendritic cell     Plasmacytoid dendritic cell progenitors  \n",
       "2 X100197 B cell             Mature naive B cells                     \n",
       "3 X100262 T cell             CD8+CD103+ tissue resident memory T cells\n",
       "4 X100267 B cell             Nonswitched memory B cells               \n",
       "5 X100405 T cell             CD8+ naive T cells                       \n",
       "6 X100444 Lymphomyeloid prog Lymphomyeloid prog                       \n",
       "  Reference  Approach Size Set Genes predicted         \n",
       "1 BoneMarrow CellID   1454 1   200   Dendritic cell    \n",
       "2 BoneMarrow CellID   1454 1   200   B cell            \n",
       "3 BoneMarrow CellID   1454 1   200   T cell            \n",
       "4 BoneMarrow CellID   1454 1   200   B cell            \n",
       "5 BoneMarrow CellID   1454 1   200   T cell            \n",
       "6 BoneMarrow CellID   1454 1   200   Lymphomyeloid prog"
      ]
     },
     "metadata": {},
     "output_type": "display_data"
    }
   ],
   "source": [
    "head(long)\n",
    "long$predicted[is.na(long$predicted)] <- \"unassigned\""
   ]
  },
  {
   "cell_type": "code",
   "execution_count": null,
   "id": "8215d586-11e4-4d3e-8268-b5006ff72af7",
   "metadata": {
    "tags": []
   },
   "outputs": [],
   "source": [
    "maxcut <- c(14707,500,1000,2000,3000,4000,5000,10000)\n",
    "x <- lapply(maxcut, function(m) get_summary(\"../Data/Predictions_bonemarrow//\",\n",
    "                    \"../Data/Fulldata/BoneMarrow_Reference/meta.csv\",\n",
    "                    \"../Results/Files/\", query, \"BoneMarrow\", celltypes, methods,\n",
    "                                            seq(1,20,1), full,m))"
   ]
  },
  {
   "cell_type": "code",
   "execution_count": null,
   "id": "6a273147-a515-426b-ac62-effaf1f98050",
   "metadata": {},
   "outputs": [],
   "source": [
    "files <- c('summary_BoneMarrow14707.csv','summary_BoneMarrow1000.csv','summary_BoneMarrow10000.csv',\n",
    "           'summary_BoneMarrow2000.csv','summary_BoneMarrow3000.csv',\n",
    "           'summary_BoneMarrow4000.csv','summary_BoneMarrow5000.csv',\n",
    "           'summary_BoneMarrow500.csv')\n",
    "maxsizes <- c(14707, 1000, 10000, 2000, 3000, 4000, 5000, 500)\n",
    "\n",
    "\n",
    "for(i in seq(1,length(files))){\n",
    "    data <- read.csv(paste0(\"../Results/Files/\", files[i]))\n",
    "    data$size <- maxsizes[i]\n",
    "    data <- data[!is.na(data$accuracy),]\n",
    "    if (i == 1) bootstrap <- data\n",
    "    else bootstrap <- rbind(bootstrap, data)\n",
    "}\n",
    "\n",
    "head(bootstrap)\n",
    "\n",
    "write.table(bootstrap, \"../Results/Files/summary_bonemarrow_bootstrapmax.csv\", sep=\",\", row.names=F, col.names=T, quote=F)"
   ]
  },
  {
   "cell_type": "code",
   "execution_count": null,
   "id": "b5e15f9d-ae68-4dc9-b024-d42145ad0236",
   "metadata": {
    "tags": []
   },
   "outputs": [],
   "source": [
    "mono <- x[[1]]\n",
    "mono <- mono[, c(\"id\",\"method\",\"reference\",\"accuracy\")]\n",
    "umapdata <- tidyr::pivot_wider(mono, names_from = c(method), values_from = accuracy)\n",
    "head(umapdata)\n",
    "write.table(umapdata, \"../Results/Files/umap_bonemarrow_data.csv\", sep=\",\")                                                                    "
   ]
  },
  {
   "cell_type": "code",
   "execution_count": null,
   "id": "7bb1e09e-8924-463a-99f3-8885817c5d00",
   "metadata": {},
   "outputs": [],
   "source": [
    "umapdata <- read.csv(\"../Results/Files/umap_bonemarrow_data.csv\") # umap data file\n",
    "rownames(umapdata)<- umapdata$id\n",
    "expressiondata_file=\"../Data/Fulldata/BoneMarrow_Query//data.csv\" #  expression data\n",
    "measures <- read.csv(\"../Results/Files//values_full_bonemarrow.csv\") # results on the full data "
   ]
  },
  {
   "cell_type": "code",
   "execution_count": null,
   "id": "9dd4a838-7c96-47c3-8fce-625e8c68dd92",
   "metadata": {},
   "outputs": [],
   "source": [
    "meta <- read.csv(\"../Data/Fulldata/BoneMarrow_Query/meta.csv\")\n",
    "umapdata <- merge(umapdata, meta, by=\"id\")\n",
    "rownames(umapdata) <- umapdata$id\n",
    "head(umapdata)"
   ]
  },
  {
   "cell_type": "code",
   "execution_count": null,
   "id": "d7d170d9-bc2b-4a05-8cdd-6150ee2f2485",
   "metadata": {},
   "outputs": [],
   "source": [
    "options(repr.plot.width=15, repr.plot.height=15)\n",
    "ggpubr::ggarrange(f6a, f6b, plot_f1,  nrow=3, ncol=1, labels= c(\"A\", \"B\", \"C\"))"
   ]
  },
  {
   "cell_type": "code",
   "execution_count": null,
   "id": "d7569dec-11fd-443d-b349-2c758e3a6424",
   "metadata": {},
   "outputs": [],
   "source": [
    "print(\"hello\")"
   ]
  },
  {
   "cell_type": "code",
   "execution_count": null,
   "id": "884dc041-014a-4b30-b42b-0fcfc4f009f0",
   "metadata": {},
   "outputs": [],
   "source": []
  }
 ],
 "metadata": {
  "kernelspec": {
   "display_name": "R",
   "language": "R",
   "name": "ir"
  },
  "language_info": {
   "codemirror_mode": "r",
   "file_extension": ".r",
   "mimetype": "text/x-r-source",
   "name": "R",
   "pygments_lexer": "r",
   "version": "4.2.2"
  }
 },
 "nbformat": 4,
 "nbformat_minor": 5
}
